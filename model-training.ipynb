{
 "cells": [
  {
   "cell_type": "markdown",
   "metadata": {
    "id": "view-in-github"
   },
   "source": [
    "<a href=\"https://colab.research.google.com/github/gauravreddy08/food-vision/blob/main/model_training.ipynb\" target=\"_parent\"><img src=\"https://colab.research.google.com/assets/colab-badge.svg\" alt=\"Open In Colab\"/></a>"
   ]
  },
  {
   "cell_type": "markdown",
   "metadata": {
    "id": "qLlzlsR6BCnr"
   },
   "source": [
    "# **Food Vision** 🍔 \n",
    "\n",
    "An **end-to-end CNN Image Classification Model** which identifies the food in your image.\n",
    "\n",
    "I worked out with a pretrained Image Classification Model that comes with Keras and then retrained it on the infamous **Food101 Dataset**.\n",
    "\n",
    "\n",
    "**Fun Fact :**\n",
    "\n",
    " \n",
    "The Accuracy of our model's is **85%**. It took around 60min to train our model.\n",
    "\n",
    "> **Dataset :** `Food101`\n",
    "\n",
    "> **Model :** `EfficientNetB1`\n"
   ]
  },
  {
   "cell_type": "markdown",
   "metadata": {
    "id": "eHjkHn8VNoI0"
   },
   "source": [
    "\n",
    "\n",
    "## **Setting up the Workspace**\n",
    "\n",
    "* Checking the GPU\n",
    "* Mounting Google Drive\n",
    "* Importing Tensorflow\n",
    "* Importing other required Packages\n",
    "\n",
    "### **Checking the GPU**\n",
    "\n",
    "For this Project we will working with **Mixed Precision**. And mixed precision works best with a with a GPU with compatibility capacity **7.0+**.\n",
    "\n",
    "At the time of writing, colab offers the following GPU's :\n",
    "* Nvidia K80\n",
    "* **Nvidia T4**\n",
    "* Nvidia P100\n",
    "\n",
    "Colab allocates a random GPU everytime we factory reset runtime. So you can reset the runtime till you get a **Tesla T4 GPU** as T4 GPU has a rating 7.5.\n",
    "\n",
    "> In case using local hardware, use a GPU with rating 7.0+ for better results.\n",
    "\n",
    "Run the below cell to see which GPU is allocated to you."
   ]
  },
  {
   "cell_type": "code",
   "execution_count": 38,
   "metadata": {
    "execution": {
     "iopub.execute_input": "2024-05-23T19:06:12.447690Z",
     "iopub.status.busy": "2024-05-23T19:06:12.447263Z",
     "iopub.status.idle": "2024-05-23T19:06:13.497244Z",
     "shell.execute_reply": "2024-05-23T19:06:13.496275Z",
     "shell.execute_reply.started": "2024-05-23T19:06:12.447656Z"
    },
    "id": "t-RX10-YA4zK",
    "outputId": "6c0cc5e1-b6f3-4524-f1e2-cabec000d4ff",
    "trusted": true
   },
   "outputs": [
    {
     "name": "stdout",
     "output_type": "stream",
     "text": [
      "GPU 0: Tesla T4 (UUID: GPU-d5235523-442d-36c4-1790-908b9b8c7e27)\n",
      "GPU 1: Tesla T4 (UUID: GPU-e6038605-c77f-b1c1-62e0-9ba7d06b4a7d)\n"
     ]
    }
   ],
   "source": [
    "!nvidia-smi -L"
   ]
  },
  {
   "cell_type": "markdown",
   "metadata": {
    "id": "99oWrYSZC8uN"
   },
   "source": [
    "### **Importing Tensorflow**\n",
    "\n",
    "So the below code is use `tensorflow 2.4.1`\n",
    "> You need to restart the **Runtime** after required version of tensorflow is installed. \n",
    "\n",
    "**Note :** Restarting runtime won't assign you a new GPU."
   ]
  },
  {
   "cell_type": "code",
   "execution_count": 40,
   "metadata": {
    "execution": {
     "iopub.execute_input": "2024-05-23T19:06:13.505352Z",
     "iopub.status.busy": "2024-05-23T19:06:13.505081Z",
     "iopub.status.idle": "2024-05-23T19:06:13.513749Z",
     "shell.execute_reply": "2024-05-23T19:06:13.512941Z",
     "shell.execute_reply.started": "2024-05-23T19:06:13.505322Z"
    },
    "id": "jmVvrWQv8-dh",
    "trusted": true
   },
   "outputs": [
    {
     "name": "stdout",
     "output_type": "stream",
     "text": [
      "2.15.0\n"
     ]
    }
   ],
   "source": [
    "!pip install tensorflow==2.4.1\n",
    "import tensorflow as tf\n",
    "print(tf.__version__)"
   ]
  },
  {
   "cell_type": "markdown",
   "metadata": {
    "id": "ZdX-o9HNEe0s"
   },
   "source": [
    "### **Importing other required Packages**"
   ]
  },
  {
   "cell_type": "markdown",
   "metadata": {
    "id": "r0P5BmDMFOj7"
   },
   "source": [
    "#### **Importing `helper_fuctions`**\n",
    "\n",
    "The `helper_functions.py` is a python script created by me. Which has some important functions I use frequently while building Deep Learning Models."
   ]
  },
  {
   "cell_type": "code",
   "execution_count": 41,
   "metadata": {
    "execution": {
     "iopub.execute_input": "2024-05-23T19:06:13.517995Z",
     "iopub.status.busy": "2024-05-23T19:06:13.517756Z",
     "iopub.status.idle": "2024-05-23T19:06:13.522984Z",
     "shell.execute_reply": "2024-05-23T19:06:13.522053Z",
     "shell.execute_reply.started": "2024-05-23T19:06:13.517974Z"
    },
    "id": "L-cf8SPCIB4Y",
    "trusted": true
   },
   "outputs": [],
   "source": [
    "import pandas as pd\n",
    "import numpy as np\n",
    "import matplotlib.pyplot as plt\n",
    "import datetime\n",
    "import os\n",
    "import tensorflow_datasets as tfds\n",
    "import seaborn as sn"
   ]
  },
  {
   "cell_type": "code",
   "execution_count": 42,
   "metadata": {
    "execution": {
     "iopub.execute_input": "2024-05-23T19:06:13.524339Z",
     "iopub.status.busy": "2024-05-23T19:06:13.524003Z",
     "iopub.status.idle": "2024-05-23T19:06:14.772430Z",
     "shell.execute_reply": "2024-05-23T19:06:14.771458Z",
     "shell.execute_reply.started": "2024-05-23T19:06:13.524315Z"
    },
    "id": "eStu1HbMKrpM",
    "outputId": "3f8c4288-9d69-4818-fbd8-8f73fc079954",
    "trusted": true
   },
   "outputs": [
    {
     "name": "stdout",
     "output_type": "stream",
     "text": [
      "--2024-05-23 19:06:14--  https://raw.githubusercontent.com/gauravreddy08/deep-learning-tensorflow/main/extras/helper_function.py\n",
      "Resolving raw.githubusercontent.com (raw.githubusercontent.com)... 185.199.108.133, 185.199.109.133, 185.199.110.133, ...\n",
      "Connecting to raw.githubusercontent.com (raw.githubusercontent.com)|185.199.108.133|:443... connected.\n",
      "HTTP request sent, awaiting response... 200 OK\n",
      "Length: 10246 (10K) [text/plain]\n",
      "Saving to: 'helper_function.py.1'\n",
      "\n",
      "helper_function.py. 100%[===================>]  10.01K  --.-KB/s    in 0s      \n",
      "\n",
      "2024-05-23 19:06:14 (62.0 MB/s) - 'helper_function.py.1' saved [10246/10246]\n",
      "\n"
     ]
    }
   ],
   "source": [
    "!wget https://raw.githubusercontent.com/gauravreddy08/deep-learning-tensorflow/main/extras/helper_function.py"
   ]
  },
  {
   "cell_type": "code",
   "execution_count": 43,
   "metadata": {
    "execution": {
     "iopub.execute_input": "2024-05-23T19:06:14.774195Z",
     "iopub.status.busy": "2024-05-23T19:06:14.773856Z",
     "iopub.status.idle": "2024-05-23T19:06:14.778965Z",
     "shell.execute_reply": "2024-05-23T19:06:14.777984Z",
     "shell.execute_reply.started": "2024-05-23T19:06:14.774166Z"
    },
    "id": "PUPdVFy5Ihhi",
    "trusted": true
   },
   "outputs": [],
   "source": [
    "from helper_function import plot_loss_curves, load_and_prep_image"
   ]
  },
  {
   "cell_type": "markdown",
   "metadata": {
    "id": "LEi-zDsqID4k"
   },
   "source": [
    "## **Getting the Data Ready**\n",
    "\n",
    "The Dataset used is **Food101**, which is available on both Kaggle and Tensorflow. \n",
    "\n",
    "In the below cells we will be importing Datasets from `Tensorflow Datasets` Module.\n"
   ]
  },
  {
   "cell_type": "code",
   "execution_count": 44,
   "metadata": {
    "execution": {
     "iopub.execute_input": "2024-05-23T19:06:14.780686Z",
     "iopub.status.busy": "2024-05-23T19:06:14.780340Z",
     "iopub.status.idle": "2024-05-23T19:06:16.488556Z",
     "shell.execute_reply": "2024-05-23T19:06:16.487592Z",
     "shell.execute_reply.started": "2024-05-23T19:06:14.780655Z"
    },
    "id": "C3iUvsq_F0Bz",
    "outputId": "ee88db89-cbc8-4f29-d925-bca106f714cf",
    "trusted": true
   },
   "outputs": [
    {
     "data": {
      "text/plain": [
       "['abstract_reasoning',\n",
       " 'accentdb',\n",
       " 'aeslc',\n",
       " 'aflw2k3d',\n",
       " 'ag_news_subset',\n",
       " 'ai2_arc',\n",
       " 'ai2_arc_with_ir',\n",
       " 'amazon_us_reviews',\n",
       " 'anli',\n",
       " 'answer_equivalence']"
      ]
     },
     "execution_count": 44,
     "metadata": {},
     "output_type": "execute_result"
    }
   ],
   "source": [
    "# Prints list of Datasets avaible in Tensorflow Datasets Module\n",
    "\n",
    "dataset_list = tfds.list_builders()\n",
    "dataset_list[:10]"
   ]
  },
  {
   "cell_type": "markdown",
   "metadata": {
    "id": "hTbK3QRCHX-I"
   },
   "source": [
    "### **Importing Food101 Dataset**\n",
    "\n",
    "**Disclaimer :** \n",
    "The below cell will take time to run, as it will be downloading \n",
    "**4.65GB data** from **Tensorflow Datasets Module**. \n",
    "\n",
    "So do check if you have enough **Disk Space** and **Bandwidth Cap** to run the below cell."
   ]
  },
  {
   "cell_type": "code",
   "execution_count": 45,
   "metadata": {
    "execution": {
     "iopub.execute_input": "2024-05-23T19:06:16.490248Z",
     "iopub.status.busy": "2024-05-23T19:06:16.489856Z",
     "iopub.status.idle": "2024-05-23T19:06:16.601399Z",
     "shell.execute_reply": "2024-05-23T19:06:16.600418Z",
     "shell.execute_reply.started": "2024-05-23T19:06:16.490214Z"
    },
    "id": "iy1hT_M3H8j3",
    "outputId": "cff5e65e-9b15-4b19-d295-30f272af96af",
    "trusted": true
   },
   "outputs": [],
   "source": [
    "(train_data, test_data), ds_info = tfds.load(name='food101',\n",
    "                                             split=['train', 'validation'],\n",
    "                                             shuffle_files=False,\n",
    "                                             as_supervised=True,\n",
    "                                             with_info=True)"
   ]
  },
  {
   "cell_type": "markdown",
   "metadata": {
    "id": "h0qQM9T2MLXJ"
   },
   "source": [
    "## **Becoming One with the Data**\n",
    "\n",
    "One of the most important steps in building any ML or DL Model is to **become one with the data**. \n",
    "\n",
    "Once you get the gist of what type of data your dealing with and how it is structured, everything else will fall in place."
   ]
  },
  {
   "cell_type": "code",
   "execution_count": 46,
   "metadata": {
    "execution": {
     "iopub.execute_input": "2024-05-23T19:06:16.603015Z",
     "iopub.status.busy": "2024-05-23T19:06:16.602696Z",
     "iopub.status.idle": "2024-05-23T19:06:16.609291Z",
     "shell.execute_reply": "2024-05-23T19:06:16.608380Z",
     "shell.execute_reply.started": "2024-05-23T19:06:16.602989Z"
    },
    "id": "3u2L1UkONFXU",
    "outputId": "426b4430-5765-4439-9620-5bf8d6dacbb1",
    "trusted": true
   },
   "outputs": [
    {
     "data": {
      "text/plain": [
       "FeaturesDict({\n",
       "    'image': Image(shape=(None, None, 3), dtype=uint8),\n",
       "    'label': ClassLabel(shape=(), dtype=int64, num_classes=101),\n",
       "})"
      ]
     },
     "execution_count": 46,
     "metadata": {},
     "output_type": "execute_result"
    }
   ],
   "source": [
    "ds_info.features"
   ]
  },
  {
   "cell_type": "code",
   "execution_count": 47,
   "metadata": {
    "execution": {
     "iopub.execute_input": "2024-05-23T19:06:16.614525Z",
     "iopub.status.busy": "2024-05-23T19:06:16.614091Z",
     "iopub.status.idle": "2024-05-23T19:06:16.621649Z",
     "shell.execute_reply": "2024-05-23T19:06:16.620618Z",
     "shell.execute_reply.started": "2024-05-23T19:06:16.614500Z"
    },
    "id": "-3FpWlTSRy5p",
    "outputId": "801a3f41-c184-4357-d466-a78700810eca",
    "trusted": true
   },
   "outputs": [
    {
     "name": "stdout",
     "output_type": "stream",
     "text": [
      "apple_pie\n",
      "baby_back_ribs\n",
      "baklava\n",
      "beef_carpaccio\n",
      "beef_tartare\n",
      "beignets\n",
      "bibimbap\n",
      "bread_pudding\n",
      "breakfast_burrito\n",
      "bruschetta\n",
      "caesar_salad\n"
     ]
    }
   ],
   "source": [
    "class_names = ds_info.features['label'].names\n",
    "# class_names[:10]\n",
    "\n",
    "print(class_names[0])\n",
    "print(class_names[1])\n",
    "print(class_names[2])\n",
    "print(class_names[3])\n",
    "print(class_names[4])\n",
    "print(class_names[6])\n",
    "print(class_names[7])\n",
    "print(class_names[8])\n",
    "print(class_names[9])\n",
    "print(class_names[10])\n",
    "print(class_names[11])"
   ]
  },
  {
   "cell_type": "code",
   "execution_count": 48,
   "metadata": {
    "execution": {
     "iopub.execute_input": "2024-05-23T19:06:16.623098Z",
     "iopub.status.busy": "2024-05-23T19:06:16.622766Z",
     "iopub.status.idle": "2024-05-23T19:06:16.630707Z",
     "shell.execute_reply": "2024-05-23T19:06:16.629682Z",
     "shell.execute_reply.started": "2024-05-23T19:06:16.623069Z"
    },
    "id": "cSKaItNpR8XH",
    "trusted": true
   },
   "outputs": [],
   "source": [
    "train_one_sample = train_data.take(1)"
   ]
  },
  {
   "cell_type": "code",
   "execution_count": 49,
   "metadata": {
    "execution": {
     "iopub.execute_input": "2024-05-23T19:06:16.632247Z",
     "iopub.status.busy": "2024-05-23T19:06:16.631908Z",
     "iopub.status.idle": "2024-05-23T19:06:16.638894Z",
     "shell.execute_reply": "2024-05-23T19:06:16.637939Z",
     "shell.execute_reply.started": "2024-05-23T19:06:16.632223Z"
    },
    "id": "nU0qrmwFSe_y",
    "outputId": "840285eb-2caf-4772-c179-c0db990c2007",
    "trusted": true
   },
   "outputs": [
    {
     "data": {
      "text/plain": [
       "<_TakeDataset element_spec=(TensorSpec(shape=(None, None, 3), dtype=tf.uint8, name=None), TensorSpec(shape=(), dtype=tf.int64, name=None))>"
      ]
     },
     "execution_count": 49,
     "metadata": {},
     "output_type": "execute_result"
    }
   ],
   "source": [
    "train_one_sample"
   ]
  },
  {
   "cell_type": "code",
   "execution_count": 50,
   "metadata": {
    "execution": {
     "iopub.execute_input": "2024-05-23T19:06:16.640322Z",
     "iopub.status.busy": "2024-05-23T19:06:16.639999Z",
     "iopub.status.idle": "2024-05-23T19:06:16.776629Z",
     "shell.execute_reply": "2024-05-23T19:06:16.775568Z",
     "shell.execute_reply.started": "2024-05-23T19:06:16.640298Z"
    },
    "id": "DJFa2EB-SgBw",
    "outputId": "bc855c22-e4e1-4b84-e7a6-7e228e91a0e6",
    "trusted": true
   },
   "outputs": [
    {
     "name": "stdout",
     "output_type": "stream",
     "text": [
      "\n",
      "  Image Shape : (512, 512, 3)\n",
      "  Image Datatype : <dtype: 'uint8'>\n",
      "  Class : huevos_rancheros\n",
      "  \n"
     ]
    }
   ],
   "source": [
    "for image, label in train_one_sample:\n",
    "  print(f\"\"\"\n",
    "  Image Shape : {image.shape}\n",
    "  Image Datatype : {image.dtype}\n",
    "  Class : {class_names[label.numpy()]}\n",
    "  \"\"\")"
   ]
  },
  {
   "cell_type": "code",
   "execution_count": 51,
   "metadata": {
    "execution": {
     "iopub.execute_input": "2024-05-23T19:06:16.778913Z",
     "iopub.status.busy": "2024-05-23T19:06:16.778331Z",
     "iopub.status.idle": "2024-05-23T19:06:16.783011Z",
     "shell.execute_reply": "2024-05-23T19:06:16.782005Z",
     "shell.execute_reply.started": "2024-05-23T19:06:16.778875Z"
    },
    "id": "UwL2WVxNS834",
    "outputId": "177feee7-0b5a-49b6-98de-54e69ac8f4b6",
    "trusted": true
   },
   "outputs": [],
   "source": [
    "# image[:2]"
   ]
  },
  {
   "cell_type": "code",
   "execution_count": 52,
   "metadata": {
    "execution": {
     "iopub.execute_input": "2024-05-23T19:06:16.785262Z",
     "iopub.status.busy": "2024-05-23T19:06:16.784593Z",
     "iopub.status.idle": "2024-05-23T19:06:16.794808Z",
     "shell.execute_reply": "2024-05-23T19:06:16.794036Z",
     "shell.execute_reply.started": "2024-05-23T19:06:16.785226Z"
    },
    "id": "Kl7p2rhOTItM",
    "outputId": "b938cdb5-c4b7-4d68-b9b2-a1cf97e66eb2",
    "trusted": true
   },
   "outputs": [
    {
     "data": {
      "text/plain": [
       "(<tf.Tensor: shape=(), dtype=uint8, numpy=0>,\n",
       " <tf.Tensor: shape=(), dtype=uint8, numpy=255>)"
      ]
     },
     "execution_count": 52,
     "metadata": {},
     "output_type": "execute_result"
    }
   ],
   "source": [
    "tf.reduce_min(image), tf.reduce_max(image)"
   ]
  },
  {
   "cell_type": "code",
   "execution_count": 53,
   "metadata": {
    "execution": {
     "iopub.execute_input": "2024-05-23T19:06:16.796396Z",
     "iopub.status.busy": "2024-05-23T19:06:16.795983Z",
     "iopub.status.idle": "2024-05-23T19:06:16.800769Z",
     "shell.execute_reply": "2024-05-23T19:06:16.799884Z",
     "shell.execute_reply.started": "2024-05-23T19:06:16.796367Z"
    },
    "id": "19G4IG9aTS4w",
    "outputId": "c22542f9-7c2b-44a6-dd13-5b5cd12c0106",
    "trusted": true
   },
   "outputs": [],
   "source": [
    "# plt.imshow(image)\n",
    "# plt.title(class_names[label.numpy()])\n",
    "# plt.axis(False);"
   ]
  },
  {
   "cell_type": "markdown",
   "metadata": {
    "id": "3edGjcGYTstK"
   },
   "source": [
    "## **Preprocessing the Data**\n",
    "\n",
    "Since we've downloaded the data from TensorFlow Datasets, there are a couple of preprocessing steps we have to take before it's ready to model. \n",
    "\n",
    "More specifically, our data is currently:\n",
    "\n",
    "* In `uint8` data type\n",
    "* Comprised of all differnet sized tensors (different sized images)\n",
    "* Not scaled (the pixel values are between 0 & 255)\n",
    "\n",
    "Whereas, models like data to be:\n",
    "\n",
    "* In `float32` data type\n",
    "* Have all of the same size tensors (batches require all tensors have the same shape, e.g. `(224, 224, 3)`)\n",
    "* Scaled (values between 0 & 1), also called normalized\n",
    "\n",
    "To take care of these, we'll create a `preprocess_img()` function which:\n",
    "\n",
    "* Resizes an input image tensor to a specified size using [`tf.image.resize()`](https://www.tensorflow.org/api_docs/python/tf/image/resize)\n",
    "* Converts an input image tensor's current datatype to `tf.float32` using [`tf.cast()`](https://www.tensorflow.org/api_docs/python/tf/cast)"
   ]
  },
  {
   "cell_type": "code",
   "execution_count": 54,
   "metadata": {
    "execution": {
     "iopub.execute_input": "2024-05-23T19:06:16.802316Z",
     "iopub.status.busy": "2024-05-23T19:06:16.801956Z",
     "iopub.status.idle": "2024-05-23T19:06:16.808148Z",
     "shell.execute_reply": "2024-05-23T19:06:16.807279Z",
     "shell.execute_reply.started": "2024-05-23T19:06:16.802286Z"
    },
    "id": "PwisrDRKUBZm",
    "trusted": true
   },
   "outputs": [],
   "source": [
    "def preprocess_img(image, label, img_size=224):\n",
    "  image = tf.image.resize(image, [img_size, img_size])\n",
    "  image = tf.cast(image, tf.float16)\n",
    "  return image, label"
   ]
  },
  {
   "cell_type": "code",
   "execution_count": 55,
   "metadata": {
    "execution": {
     "iopub.execute_input": "2024-05-23T19:06:16.809665Z",
     "iopub.status.busy": "2024-05-23T19:06:16.809339Z",
     "iopub.status.idle": "2024-05-23T19:06:16.823529Z",
     "shell.execute_reply": "2024-05-23T19:06:16.822695Z",
     "shell.execute_reply.started": "2024-05-23T19:06:16.809618Z"
    },
    "id": "2Na4cHCiX57M",
    "outputId": "70ba00b1-2a92-4753-d36a-ce44ce2e9023",
    "trusted": true
   },
   "outputs": [
    {
     "data": {
      "text/plain": [
       "<tf.Tensor: shape=(224, 224, 3), dtype=float16, numpy=\n",
       "array([[[230.6  , 253.6  , 251.   ],\n",
       "        [223.   , 255.   , 252.2  ],\n",
       "        [207.1  , 255.   , 250.4  ],\n",
       "        ...,\n",
       "        [140.6  , 129.5  , 121.25 ],\n",
       "        [121.1  , 115.25 , 116.94 ],\n",
       "        [ 83.94 ,  83.06 ,  89.6  ]],\n",
       "\n",
       "       [[221.5  , 254.4  , 253.4  ],\n",
       "        [214.5  , 255.   , 253.9  ],\n",
       "        [198.4  , 254.6  , 252.   ],\n",
       "        ...,\n",
       "        [208.6  , 195.9  , 173.4  ],\n",
       "        [197.   , 190.1  , 174.9  ],\n",
       "        [175.5  , 171.6  , 161.2  ]],\n",
       "\n",
       "       [[204.2  , 253.4  , 249.6  ],\n",
       "        [198.8  , 254.6  , 251.2  ],\n",
       "        [185.   , 251.8  , 252.2  ],\n",
       "        ...,\n",
       "        [222.5  , 207.5  , 169.4  ],\n",
       "        [216.5  , 205.   , 172.   ],\n",
       "        [215.5  , 207.9  , 177.6  ]],\n",
       "\n",
       "       ...,\n",
       "\n",
       "       [[ 47.12 ,  81.06 , 121.2  ],\n",
       "        [ 30.4  ,  63.62 , 101.3  ],\n",
       "        [127.4  , 158.9  , 193.   ],\n",
       "        ...,\n",
       "        [  3.953,  11.95 ,  23.38 ],\n",
       "        [  2.27 ,  10.33 ,  21.22 ],\n",
       "        [  6.863,  16.08 ,  25.3  ]],\n",
       "\n",
       "       [[ 68.9  , 111.2  , 160.   ],\n",
       "        [ 41.22 ,  82.3  , 126.7  ],\n",
       "        [ 55.06 ,  92.25 , 131.2  ],\n",
       "        ...,\n",
       "        [  4.086,  12.66 ,  21.88 ],\n",
       "        [  5.066,  14.06 ,  23.06 ],\n",
       "        [ 11.76 ,  20.77 ,  29.77 ]],\n",
       "\n",
       "       [[ 74.94 , 122.9  , 176.9  ],\n",
       "        [ 59.7  , 105.7  , 155.2  ],\n",
       "        [103.8  , 144.1  , 188.1  ],\n",
       "        ...,\n",
       "        [  6.215,  13.21 ,  23.22 ],\n",
       "        [  4.453,  13.45 ,  22.45 ],\n",
       "        [  9.125,  18.12 ,  25.12 ]]], dtype=float16)>"
      ]
     },
     "execution_count": 55,
     "metadata": {},
     "output_type": "execute_result"
    }
   ],
   "source": [
    "# Trying the preprocess function on a single image\n",
    "\n",
    "preprocessed_img = preprocess_img(image, label)[0]\n",
    "preprocessed_img"
   ]
  },
  {
   "cell_type": "code",
   "execution_count": 56,
   "metadata": {
    "execution": {
     "iopub.execute_input": "2024-05-23T19:06:16.824942Z",
     "iopub.status.busy": "2024-05-23T19:06:16.824620Z",
     "iopub.status.idle": "2024-05-23T19:06:16.862867Z",
     "shell.execute_reply": "2024-05-23T19:06:16.862160Z",
     "shell.execute_reply.started": "2024-05-23T19:06:16.824911Z"
    },
    "id": "juSdIsa6YFZ_",
    "trusted": true
   },
   "outputs": [],
   "source": [
    "train_data = train_data.map(preprocess_img, tf.data.AUTOTUNE)\n",
    "train_data = train_data.shuffle(buffer_size=1000).batch(32).prefetch(tf.data.AUTOTUNE)\n",
    "\n",
    "test_data = test_data.map(preprocess_img, tf.data.AUTOTUNE)\n",
    "test_data = test_data.batch(32)"
   ]
  },
  {
   "cell_type": "code",
   "execution_count": 57,
   "metadata": {
    "execution": {
     "iopub.execute_input": "2024-05-23T19:06:16.864137Z",
     "iopub.status.busy": "2024-05-23T19:06:16.863852Z",
     "iopub.status.idle": "2024-05-23T19:06:16.869445Z",
     "shell.execute_reply": "2024-05-23T19:06:16.868592Z",
     "shell.execute_reply.started": "2024-05-23T19:06:16.864113Z"
    },
    "id": "zaZYM_NJZPKh",
    "outputId": "ea2df6ea-45e3-4996-e692-537c685e0af8",
    "trusted": true
   },
   "outputs": [
    {
     "data": {
      "text/plain": [
       "<_PrefetchDataset element_spec=(TensorSpec(shape=(None, 224, 224, 3), dtype=tf.float16, name=None), TensorSpec(shape=(None,), dtype=tf.int64, name=None))>"
      ]
     },
     "execution_count": 57,
     "metadata": {},
     "output_type": "execute_result"
    }
   ],
   "source": [
    "train_data"
   ]
  },
  {
   "cell_type": "code",
   "execution_count": 58,
   "metadata": {
    "execution": {
     "iopub.execute_input": "2024-05-23T19:06:16.870781Z",
     "iopub.status.busy": "2024-05-23T19:06:16.870512Z",
     "iopub.status.idle": "2024-05-23T19:06:16.877424Z",
     "shell.execute_reply": "2024-05-23T19:06:16.876534Z",
     "shell.execute_reply.started": "2024-05-23T19:06:16.870758Z"
    },
    "id": "sBLaziinZx2r",
    "outputId": "9bbb949f-3981-4d69-ca01-cdf829ece7fa",
    "trusted": true
   },
   "outputs": [
    {
     "data": {
      "text/plain": [
       "<_BatchDataset element_spec=(TensorSpec(shape=(None, 224, 224, 3), dtype=tf.float16, name=None), TensorSpec(shape=(None,), dtype=tf.int64, name=None))>"
      ]
     },
     "execution_count": 58,
     "metadata": {},
     "output_type": "execute_result"
    }
   ],
   "source": [
    "test_data"
   ]
  },
  {
   "cell_type": "markdown",
   "metadata": {
    "id": "SoUQfzijw_G2"
   },
   "source": [
    "## **Building the Model : EfficientNetB1**\n",
    "\n",
    "\n",
    "### **Getting the Callbacks ready**\n",
    "As we are dealing with a complex Neural Network (EfficientNetB0) its a good practice to have few call backs set up. Few callbacks I will be using throughtout this Notebook are :\n",
    " * **TensorBoard Callback :** TensorBoard provides the visualization and tooling needed for machine learning experimentation\n",
    "\n",
    " * **EarlyStoppingCallback :** Used to stop training when a monitored metric has stopped improving.\n",
    " \n",
    " * **ReduceLROnPlateau :** Reduce learning rate when a metric has stopped improving.\n",
    "\n",
    "\n",
    " We already have **TensorBoardCallBack** function setup in out helper function, all we have to do is get other callbacks ready."
   ]
  },
  {
   "cell_type": "code",
   "execution_count": 59,
   "metadata": {
    "execution": {
     "iopub.execute_input": "2024-05-23T19:06:16.878804Z",
     "iopub.status.busy": "2024-05-23T19:06:16.878539Z",
     "iopub.status.idle": "2024-05-23T19:06:16.883106Z",
     "shell.execute_reply": "2024-05-23T19:06:16.882198Z",
     "shell.execute_reply.started": "2024-05-23T19:06:16.878780Z"
    },
    "id": "tEKT5a6BCw0P",
    "trusted": true
   },
   "outputs": [],
   "source": [
    "from helper_function import create_tensorboard_callback"
   ]
  },
  {
   "cell_type": "code",
   "execution_count": 60,
   "metadata": {
    "execution": {
     "iopub.execute_input": "2024-05-23T19:06:16.884908Z",
     "iopub.status.busy": "2024-05-23T19:06:16.884329Z",
     "iopub.status.idle": "2024-05-23T19:06:16.892713Z",
     "shell.execute_reply": "2024-05-23T19:06:16.891880Z",
     "shell.execute_reply.started": "2024-05-23T19:06:16.884877Z"
    },
    "id": "bChUJGZ5Q0ga",
    "trusted": true
   },
   "outputs": [],
   "source": [
    "# EarlyStopping Callback\n",
    "\n",
    "early_stopping_callback = tf.keras.callbacks.EarlyStopping(restore_best_weights=True, patience=3, verbose=1, monitor=\"val_accuracy\")"
   ]
  },
  {
   "cell_type": "code",
   "execution_count": 61,
   "metadata": {
    "execution": {
     "iopub.execute_input": "2024-05-23T19:06:16.894483Z",
     "iopub.status.busy": "2024-05-23T19:06:16.893974Z",
     "iopub.status.idle": "2024-05-23T19:06:16.900405Z",
     "shell.execute_reply": "2024-05-23T19:06:16.899513Z",
     "shell.execute_reply.started": "2024-05-23T19:06:16.894447Z"
    },
    "id": "IS7Gmly1oJrD",
    "trusted": true
   },
   "outputs": [],
   "source": [
    "# ReduceLROnPlateau Callback\n",
    "\n",
    "lower_lr = tf.keras.callbacks.ReduceLROnPlateau(factor=0.2,\n",
    "                                                monitor='val_accuracy',\n",
    "                                                min_lr=1e-7,\n",
    "                                                patience=0,\n",
    "                                                verbose=1)"
   ]
  },
  {
   "cell_type": "markdown",
   "metadata": {
    "id": "uO1sVhaV5pfz"
   },
   "source": [
    "\n",
    "\n",
    "### **Mixed Precision Training**\n",
    "Mixed precision is used for training neural networks, reducing training time and memory requirements without affecting the model performance.\n",
    "\n",
    "More Specifically, in **Mixed Precision** we will setting global dtype as `mixed_float16`. Because modern accelerators can run operations faster in the 16-bit dtypes, as they have specialized hardware to run 16-bit computations and 16-bit dtypes can be read from memory faster.\n",
    "\n",
    "To know more about Mixed Precision, [**click here**](https://www.tensorflow.org/guide/mixed_precision)"
   ]
  },
  {
   "cell_type": "code",
   "execution_count": 62,
   "metadata": {
    "execution": {
     "iopub.execute_input": "2024-05-23T19:06:16.901670Z",
     "iopub.status.busy": "2024-05-23T19:06:16.901411Z",
     "iopub.status.idle": "2024-05-23T19:06:16.907684Z",
     "shell.execute_reply": "2024-05-23T19:06:16.906879Z",
     "shell.execute_reply.started": "2024-05-23T19:06:16.901647Z"
    },
    "id": "NE9EmEKUkDTA",
    "outputId": "aaf9fe21-8b5a-4688-8cfc-c5f9a2a84fa4",
    "trusted": true
   },
   "outputs": [],
   "source": [
    "from tensorflow.keras import mixed_precision\n",
    "# mixed_precision.set_global_policy(policy='mixed_float16')"
   ]
  },
  {
   "cell_type": "code",
   "execution_count": 63,
   "metadata": {
    "execution": {
     "iopub.execute_input": "2024-05-23T19:06:16.909090Z",
     "iopub.status.busy": "2024-05-23T19:06:16.908757Z",
     "iopub.status.idle": "2024-05-23T19:06:16.917636Z",
     "shell.execute_reply": "2024-05-23T19:06:16.916648Z",
     "shell.execute_reply.started": "2024-05-23T19:06:16.909059Z"
    },
    "id": "Q_cfBoZlFGhR",
    "outputId": "cdad523a-afa4-496c-b8c9-98b276a1c7b7",
    "trusted": true
   },
   "outputs": [
    {
     "data": {
      "text/plain": [
       "<FloatDTypePolicy \"float32\">"
      ]
     },
     "execution_count": 63,
     "metadata": {},
     "output_type": "execute_result"
    }
   ],
   "source": [
    "mixed_precision.global_policy()"
   ]
  },
  {
   "cell_type": "markdown",
   "metadata": {
    "id": "hkq10Fv1I6Rb"
   },
   "source": [
    "\n",
    "\n",
    "### **Building the Model**"
   ]
  },
  {
   "cell_type": "code",
   "execution_count": 64,
   "metadata": {
    "execution": {
     "iopub.execute_input": "2024-05-23T19:06:16.919154Z",
     "iopub.status.busy": "2024-05-23T19:06:16.918826Z",
     "iopub.status.idle": "2024-05-23T19:06:18.089779Z",
     "shell.execute_reply": "2024-05-23T19:06:18.088742Z",
     "shell.execute_reply.started": "2024-05-23T19:06:16.919128Z"
    },
    "id": "xiBGTrovMZn2",
    "trusted": true
   },
   "outputs": [],
   "source": [
    "from tensorflow.keras import layers\n",
    "# from tensorflow.keras.layers.experimental import preprocessing\n",
    "\n",
    "# Create base model\n",
    "input_shape = (224, 224, 3)\n",
    "base_model = tf.keras.applications.EfficientNetB1(input_shape=input_shape, include_top=False)\n",
    "\n",
    "# Input and Data Augmentation\n",
    "inputs = layers.Input(shape=input_shape, name=\"input_layer\")\n",
    "x = base_model(inputs)\n",
    "\n",
    "x = layers.GlobalAveragePooling2D(name=\"pooling_layer\")(x)\n",
    "x = layers.Dropout(.3)(x)\n",
    "\n",
    "x = layers.Dense(len(class_names))(x)\n",
    "outputs = layers.Activation(\"softmax\")(x)\n",
    "model = tf.keras.Model(inputs, outputs)\n",
    "\n",
    "# Compiling the model\n",
    "model.compile(loss=\"sparse_categorical_crossentropy\", \n",
    "              optimizer=tf.keras.optimizers.Adam(0.001),\n",
    "              metrics=[\"accuracy\"])"
   ]
  },
  {
   "cell_type": "code",
   "execution_count": 65,
   "metadata": {
    "execution": {
     "iopub.execute_input": "2024-05-23T19:06:18.096062Z",
     "iopub.status.busy": "2024-05-23T19:06:18.095735Z",
     "iopub.status.idle": "2024-05-23T19:06:18.126763Z",
     "shell.execute_reply": "2024-05-23T19:06:18.125866Z",
     "shell.execute_reply.started": "2024-05-23T19:06:18.096035Z"
    },
    "id": "_PzqP2rOEinl",
    "outputId": "44ac971b-8e65-4ecd-b6c8-5cd10d3f05aa",
    "trusted": true
   },
   "outputs": [
    {
     "data": {
      "text/html": [
       "<pre style=\"white-space:pre;overflow-x:auto;line-height:normal;font-family:Menlo,'DejaVu Sans Mono',consolas,'Courier New',monospace\"><span style=\"font-weight: bold\">Model: \"functional_11\"</span>\n",
       "</pre>\n"
      ],
      "text/plain": [
       "\u001B[1mModel: \"functional_11\"\u001B[0m\n"
      ]
     },
     "metadata": {},
     "output_type": "display_data"
    },
    {
     "data": {
      "text/html": [
       "<pre style=\"white-space:pre;overflow-x:auto;line-height:normal;font-family:Menlo,'DejaVu Sans Mono',consolas,'Courier New',monospace\">┏━━━━━━━━━━━━━━━━━━━━━━━━━━━━━━━━━┳━━━━━━━━━━━━━━━━━━━━━━━━┳━━━━━━━━━━━━━━━┓\n",
       "┃<span style=\"font-weight: bold\"> Layer (type)                    </span>┃<span style=\"font-weight: bold\"> Output Shape           </span>┃<span style=\"font-weight: bold\">       Param # </span>┃\n",
       "┡━━━━━━━━━━━━━━━━━━━━━━━━━━━━━━━━━╇━━━━━━━━━━━━━━━━━━━━━━━━╇━━━━━━━━━━━━━━━┩\n",
       "│ input_layer (<span style=\"color: #0087ff; text-decoration-color: #0087ff\">InputLayer</span>)        │ (<span style=\"color: #00d7ff; text-decoration-color: #00d7ff\">None</span>, <span style=\"color: #00af00; text-decoration-color: #00af00\">224</span>, <span style=\"color: #00af00; text-decoration-color: #00af00\">224</span>, <span style=\"color: #00af00; text-decoration-color: #00af00\">3</span>)    │             <span style=\"color: #00af00; text-decoration-color: #00af00\">0</span> │\n",
       "├─────────────────────────────────┼────────────────────────┼───────────────┤\n",
       "│ mobilenetv2_1.00_224            │ (<span style=\"color: #00d7ff; text-decoration-color: #00d7ff\">None</span>, <span style=\"color: #00af00; text-decoration-color: #00af00\">7</span>, <span style=\"color: #00af00; text-decoration-color: #00af00\">7</span>, <span style=\"color: #00af00; text-decoration-color: #00af00\">1280</span>)     │     <span style=\"color: #00af00; text-decoration-color: #00af00\">2,257,984</span> │\n",
       "│ (<span style=\"color: #0087ff; text-decoration-color: #0087ff\">Functional</span>)                    │                        │               │\n",
       "├─────────────────────────────────┼────────────────────────┼───────────────┤\n",
       "│ pooling_layer                   │ (<span style=\"color: #00d7ff; text-decoration-color: #00d7ff\">None</span>, <span style=\"color: #00af00; text-decoration-color: #00af00\">1280</span>)           │             <span style=\"color: #00af00; text-decoration-color: #00af00\">0</span> │\n",
       "│ (<span style=\"color: #0087ff; text-decoration-color: #0087ff\">GlobalAveragePooling2D</span>)        │                        │               │\n",
       "├─────────────────────────────────┼────────────────────────┼───────────────┤\n",
       "│ dropout_5 (<span style=\"color: #0087ff; text-decoration-color: #0087ff\">Dropout</span>)             │ (<span style=\"color: #00d7ff; text-decoration-color: #00d7ff\">None</span>, <span style=\"color: #00af00; text-decoration-color: #00af00\">1280</span>)           │             <span style=\"color: #00af00; text-decoration-color: #00af00\">0</span> │\n",
       "├─────────────────────────────────┼────────────────────────┼───────────────┤\n",
       "│ dense_5 (<span style=\"color: #0087ff; text-decoration-color: #0087ff\">Dense</span>)                 │ (<span style=\"color: #00d7ff; text-decoration-color: #00d7ff\">None</span>, <span style=\"color: #00af00; text-decoration-color: #00af00\">101</span>)            │       <span style=\"color: #00af00; text-decoration-color: #00af00\">129,381</span> │\n",
       "├─────────────────────────────────┼────────────────────────┼───────────────┤\n",
       "│ activation_5 (<span style=\"color: #0087ff; text-decoration-color: #0087ff\">Activation</span>)       │ (<span style=\"color: #00d7ff; text-decoration-color: #00d7ff\">None</span>, <span style=\"color: #00af00; text-decoration-color: #00af00\">101</span>)            │             <span style=\"color: #00af00; text-decoration-color: #00af00\">0</span> │\n",
       "└─────────────────────────────────┴────────────────────────┴───────────────┘\n",
       "</pre>\n"
      ],
      "text/plain": [
       "┏━━━━━━━━━━━━━━━━━━━━━━━━━━━━━━━━━┳━━━━━━━━━━━━━━━━━━━━━━━━┳━━━━━━━━━━━━━━━┓\n",
       "┃\u001B[1m \u001B[0m\u001B[1mLayer (type)                   \u001B[0m\u001B[1m \u001B[0m┃\u001B[1m \u001B[0m\u001B[1mOutput Shape          \u001B[0m\u001B[1m \u001B[0m┃\u001B[1m \u001B[0m\u001B[1m      Param #\u001B[0m\u001B[1m \u001B[0m┃\n",
       "┡━━━━━━━━━━━━━━━━━━━━━━━━━━━━━━━━━╇━━━━━━━━━━━━━━━━━━━━━━━━╇━━━━━━━━━━━━━━━┩\n",
       "│ input_layer (\u001B[38;5;33mInputLayer\u001B[0m)        │ (\u001B[38;5;45mNone\u001B[0m, \u001B[38;5;34m224\u001B[0m, \u001B[38;5;34m224\u001B[0m, \u001B[38;5;34m3\u001B[0m)    │             \u001B[38;5;34m0\u001B[0m │\n",
       "├─────────────────────────────────┼────────────────────────┼───────────────┤\n",
       "│ mobilenetv2_1.00_224            │ (\u001B[38;5;45mNone\u001B[0m, \u001B[38;5;34m7\u001B[0m, \u001B[38;5;34m7\u001B[0m, \u001B[38;5;34m1280\u001B[0m)     │     \u001B[38;5;34m2,257,984\u001B[0m │\n",
       "│ (\u001B[38;5;33mFunctional\u001B[0m)                    │                        │               │\n",
       "├─────────────────────────────────┼────────────────────────┼───────────────┤\n",
       "│ pooling_layer                   │ (\u001B[38;5;45mNone\u001B[0m, \u001B[38;5;34m1280\u001B[0m)           │             \u001B[38;5;34m0\u001B[0m │\n",
       "│ (\u001B[38;5;33mGlobalAveragePooling2D\u001B[0m)        │                        │               │\n",
       "├─────────────────────────────────┼────────────────────────┼───────────────┤\n",
       "│ dropout_5 (\u001B[38;5;33mDropout\u001B[0m)             │ (\u001B[38;5;45mNone\u001B[0m, \u001B[38;5;34m1280\u001B[0m)           │             \u001B[38;5;34m0\u001B[0m │\n",
       "├─────────────────────────────────┼────────────────────────┼───────────────┤\n",
       "│ dense_5 (\u001B[38;5;33mDense\u001B[0m)                 │ (\u001B[38;5;45mNone\u001B[0m, \u001B[38;5;34m101\u001B[0m)            │       \u001B[38;5;34m129,381\u001B[0m │\n",
       "├─────────────────────────────────┼────────────────────────┼───────────────┤\n",
       "│ activation_5 (\u001B[38;5;33mActivation\u001B[0m)       │ (\u001B[38;5;45mNone\u001B[0m, \u001B[38;5;34m101\u001B[0m)            │             \u001B[38;5;34m0\u001B[0m │\n",
       "└─────────────────────────────────┴────────────────────────┴───────────────┘\n"
      ]
     },
     "metadata": {},
     "output_type": "display_data"
    },
    {
     "data": {
      "text/html": [
       "<pre style=\"white-space:pre;overflow-x:auto;line-height:normal;font-family:Menlo,'DejaVu Sans Mono',consolas,'Courier New',monospace\"><span style=\"font-weight: bold\"> Total params: </span><span style=\"color: #00af00; text-decoration-color: #00af00\">2,387,365</span> (9.11 MB)\n",
       "</pre>\n"
      ],
      "text/plain": [
       "\u001B[1m Total params: \u001B[0m\u001B[38;5;34m2,387,365\u001B[0m (9.11 MB)\n"
      ]
     },
     "metadata": {},
     "output_type": "display_data"
    },
    {
     "data": {
      "text/html": [
       "<pre style=\"white-space:pre;overflow-x:auto;line-height:normal;font-family:Menlo,'DejaVu Sans Mono',consolas,'Courier New',monospace\"><span style=\"font-weight: bold\"> Trainable params: </span><span style=\"color: #00af00; text-decoration-color: #00af00\">2,353,253</span> (8.98 MB)\n",
       "</pre>\n"
      ],
      "text/plain": [
       "\u001B[1m Trainable params: \u001B[0m\u001B[38;5;34m2,353,253\u001B[0m (8.98 MB)\n"
      ]
     },
     "metadata": {},
     "output_type": "display_data"
    },
    {
     "data": {
      "text/html": [
       "<pre style=\"white-space:pre;overflow-x:auto;line-height:normal;font-family:Menlo,'DejaVu Sans Mono',consolas,'Courier New',monospace\"><span style=\"font-weight: bold\"> Non-trainable params: </span><span style=\"color: #00af00; text-decoration-color: #00af00\">34,112</span> (133.25 KB)\n",
       "</pre>\n"
      ],
      "text/plain": [
       "\u001B[1m Non-trainable params: \u001B[0m\u001B[38;5;34m34,112\u001B[0m (133.25 KB)\n"
      ]
     },
     "metadata": {},
     "output_type": "display_data"
    }
   ],
   "source": [
    "model.summary()"
   ]
  },
  {
   "cell_type": "code",
   "metadata": {
    "execution": {
     "iopub.execute_input": "2024-05-23T19:06:18.128646Z",
     "iopub.status.busy": "2024-05-23T19:06:18.127910Z",
     "iopub.status.idle": "2024-05-23T19:12:12.370194Z",
     "shell.execute_reply": "2024-05-23T19:12:12.369071Z",
     "shell.execute_reply.started": "2024-05-23T19:06:18.128620Z"
    },
    "id": "4AsrgzGa8NPw",
    "outputId": "14692a92-a9fa-4218-a725-29d45644279d",
    "trusted": true
   },
   "source": [
    "history = model.fit(train_data,\n",
    "                    epochs=50,\n",
    "                    steps_per_epoch=len(train_data),\n",
    "                    validation_data=test_data,\n",
    "                    validation_steps=int(0.15 * len(test_data)),\n",
    "                    callbacks=[create_tensorboard_callback(\"training-logs\", \"EfficientNetB1-\"),\n",
    "                               early_stopping_callback,\n",
    "                               lower_lr])"
   ],
   "outputs": [],
   "execution_count": null
  },
  {
   "cell_type": "code",
   "metadata": {
    "execution": {
     "iopub.execute_input": "2024-05-23T19:13:02.084912Z",
     "iopub.status.busy": "2024-05-23T19:13:02.084062Z",
     "iopub.status.idle": "2024-05-23T19:13:02.419418Z",
     "shell.execute_reply": "2024-05-23T19:13:02.418069Z",
     "shell.execute_reply.started": "2024-05-23T19:13:02.084874Z"
    },
    "id": "UsDEMhEWpQ7N",
    "trusted": true
   },
   "source": [
    "# Saving the model\n",
    "model.save(\"/kaggle/working/my_model.h5\")\n"
   ],
   "outputs": [],
   "execution_count": null
  },
  {
   "cell_type": "code",
   "execution_count": null,
   "metadata": {
    "id": "vH1uB5qbCdz9",
    "trusted": true
   },
   "outputs": [],
   "source": [
    "# Saving the model\n",
    "# model.save(\"FoodVision.hdf5\")\n",
    "# Define the file path for saving the model\n",
    "saved_model_path = \"/kaggle/working/my_modeldefault.keras\"\n",
    "\n",
    "# Save the trained model\n",
    "model.save(saved_model_path)"
   ]
  },
  {
   "cell_type": "code",
   "execution_count": null,
   "metadata": {
    "trusted": true
   },
   "outputs": [],
   "source": [
    "import tensorflow as tf\n",
    "# Convert the model.\n",
    "converter = tf.lite.TFLiteConverter.from_keras_model(model)\n",
    "tflite_model = converter.convert()\n",
    "\n",
    "# Save the model.\n",
    "with open('/kaggle/working/amodeltflite.tflite', 'wb') as f:\n",
    "  f.write(tflite_model)\n",
    "\n",
    "print(\"COMPLETED\")"
   ]
  },
  {
   "cell_type": "code",
   "execution_count": null,
   "metadata": {
    "id": "PYECp6eXDrFn",
    "outputId": "d4de3fa2-6111-4195-87e8-12eeec0820ec",
    "trusted": true
   },
   "outputs": [],
   "source": [
    "plot_loss_curves(history)"
   ]
  },
  {
   "cell_type": "code",
   "execution_count": null,
   "metadata": {
    "id": "_e8gzXmu6jjX",
    "outputId": "f4fcec29-b47a-44ee-97cf-29a5d3164626",
    "trusted": true
   },
   "outputs": [],
   "source": [
    "model.evaluate(test_data)"
   ]
  },
  {
   "cell_type": "markdown",
   "metadata": {
    "id": "vy02Y2LJKVfU"
   },
   "source": [
    "## **Evaluating our Model**"
   ]
  },
  {
   "cell_type": "code",
   "execution_count": null,
   "metadata": {
    "id": "04IaWDJLDnRc",
    "outputId": "179735f1-e21c-4e62-9795-5347c6e48497",
    "trusted": true
   },
   "outputs": [],
   "source": [
    "%load_ext tensorboard\n",
    "%tensorboard --logdir training-logs"
   ]
  },
  {
   "cell_type": "code",
   "execution_count": null,
   "metadata": {
    "id": "Y9MuUcLpuXDo",
    "outputId": "72f7b986-f0d4-477f-8cef-828d831cca69",
    "trusted": true
   },
   "outputs": [],
   "source": [
    "pred_probs = model.predict(test_data, verbose=1)\n",
    "len(pred_probs), pred_probs.shape"
   ]
  },
  {
   "cell_type": "code",
   "execution_count": null,
   "metadata": {
    "id": "AXgpMQqCZ1Cp",
    "outputId": "ea4dc255-c9ce-4ecd-985a-c17eb70d52dd",
    "trusted": true
   },
   "outputs": [],
   "source": [
    "pred_classes = pred_probs.argmax(axis=1)\n",
    "pred_classes[:10], len(pred_classes), pred_classes.shape"
   ]
  },
  {
   "cell_type": "code",
   "execution_count": null,
   "metadata": {
    "id": "j13eTRhmcB7A",
    "outputId": "cee27b2f-9816-4809-828a-d55f39429ebf",
    "trusted": true
   },
   "outputs": [],
   "source": [
    "# Getting true labels for the test_data\n",
    "\n",
    "y_labels = []\n",
    "test_images = []\n",
    "for images, labels in test_data.unbatch():\n",
    "  y_labels.append(labels.numpy())\n",
    "y_labels[:10]"
   ]
  },
  {
   "cell_type": "code",
   "execution_count": null,
   "metadata": {
    "id": "vsdc6uYhnYuf",
    "outputId": "31c9ad46-268b-400b-ccb6-3a6390a15c5e",
    "trusted": true
   },
   "outputs": [],
   "source": [
    "# Predicted Labels vs. True Labels\n",
    "pred_classes==y_labels"
   ]
  },
  {
   "cell_type": "markdown",
   "metadata": {
    "id": "UQ3Stg0ELezB"
   },
   "source": [
    "### **Sklearn's Accuracy Score**"
   ]
  },
  {
   "cell_type": "code",
   "execution_count": null,
   "metadata": {
    "id": "KVyP6Kb9sCjf",
    "outputId": "16c275df-be8a-404a-e800-f8f032cc4209",
    "trusted": true
   },
   "outputs": [],
   "source": [
    "from sklearn.metrics import accuracy_score\n",
    "\n",
    "sklearn_acc = accuracy_score(y_labels, pred_classes)\n",
    "sklearn_acc "
   ]
  },
  {
   "cell_type": "markdown",
   "metadata": {
    "id": "NWDXN9EvLyPO"
   },
   "source": [
    "### **Confusion Matrix**\n",
    "A confusion matrix is a table that is often used to describe the performance of a classification model (or \"classifier\") on a set of test data for which the true values are known"
   ]
  },
  {
   "cell_type": "code",
   "execution_count": null,
   "metadata": {
    "id": "71Xt8Pu7slXy",
    "outputId": "140d335d-907f-4774-9f14-4b7849d86d2b",
    "trusted": true
   },
   "outputs": [],
   "source": [
    "cm = tf.math.confusion_matrix(y_labels, pred_classes)\n",
    "\n",
    "plt.figure(figsize = (200, 200));\n",
    "sn.heatmap(cm, annot=True, \n",
    "           fmt='',\n",
    "           cmap='Blues');"
   ]
  },
  {
   "cell_type": "markdown",
   "metadata": {
    "id": "fdhg5qEML1Y4"
   },
   "source": [
    "### **Model's Class-wise Accuracy Score**"
   ]
  },
  {
   "cell_type": "code",
   "execution_count": null,
   "metadata": {
    "id": "zBnp2_9LltLM",
    "trusted": true
   },
   "outputs": [],
   "source": [
    "from sklearn.metrics import classification_report\n",
    "report = (classification_report(y_labels, pred_classes, output_dict=True))"
   ]
  },
  {
   "cell_type": "code",
   "execution_count": null,
   "metadata": {
    "id": "_dA-Ww9-zUbN",
    "outputId": "97a73051-6a7a-45d1-c8e3-9c44640154c7",
    "trusted": true
   },
   "outputs": [],
   "source": [
    "# Create empty dictionary\n",
    "class_f1_scores = {}\n",
    "# Loop through classification report items\n",
    "for k, v in report.items():\n",
    "  if k == \"accuracy\": # stop once we get to accuracy key\n",
    "    break\n",
    "  else:\n",
    "    # Append class names and f1-scores to new dictionary\n",
    "    class_f1_scores[class_names[int(k)]] = v[\"f1-score\"]\n",
    "class_f1_scores"
   ]
  },
  {
   "cell_type": "code",
   "execution_count": null,
   "metadata": {
    "id": "kU_gvC-R1H9h",
    "trusted": true
   },
   "outputs": [],
   "source": [
    "report_df = pd.DataFrame(class_f1_scores, index = ['f1-scores']).T"
   ]
  },
  {
   "cell_type": "code",
   "execution_count": null,
   "metadata": {
    "id": "aFtHRXri9z_V",
    "trusted": true
   },
   "outputs": [],
   "source": [
    "report_df = report_df.sort_values(\"f1-scores\", ascending=True)"
   ]
  },
  {
   "cell_type": "code",
   "execution_count": null,
   "metadata": {
    "id": "GXiI1bMz67LM",
    "outputId": "e6ea4117-8840-4582-d631-405e2c889ce9",
    "trusted": true
   },
   "outputs": [],
   "source": [
    "import matplotlib.pyplot as plt\n",
    "\n",
    "fig, ax = plt.subplots(figsize=(12, 25))\n",
    "scores = ax.barh(range(len(report_df)), report_df[\"f1-scores\"].values)\n",
    "ax.set_yticks(range(len(report_df)))\n",
    "plt.axvline(x=0.85, linestyle='--', color='r')\n",
    "ax.set_yticklabels(class_names)\n",
    "ax.set_xlabel(\"f1-score\")\n",
    "ax.set_title(\"F1-Scores for 10 Different Classes\")\n",
    "ax.invert_yaxis(); # reverse the order"
   ]
  },
  {
   "cell_type": "markdown",
   "metadata": {
    "id": "JAa0Tq7PL9Da"
   },
   "source": [
    "### **Predicting on our own Custom images**\n",
    "\n",
    "Once we have our model ready, its cruicial to evaluate it on our custom data : the data our model has never seen.\n",
    "\n",
    "Training and evaluating a model on train and test data is cool, but making predictions on our own realtime images is another level.\n",
    "\n"
   ]
  },
  {
   "cell_type": "code",
   "execution_count": null,
   "metadata": {
    "trusted": true
   },
   "outputs": [],
   "source": [
    "from tensorflow.keras.models import load_model\n",
    "loaded_model = load_model('/kaggle/working/my_model_no_optimizer.keras')"
   ]
  },
  {
   "cell_type": "code",
   "execution_count": null,
   "metadata": {
    "id": "5d_udVhF9wnT",
    "outputId": "5fabf021-7446-4003-ae2b-83f1dd254caa",
    "trusted": true
   },
   "outputs": [],
   "source": [
    "# Get custom food images filepaths\n",
    "# import os\n",
    "\n",
    "# custom_food_images = [\"/content/drive/MyDrive/FoodVisionModels/Custom Images/\" + img_path for img_path in os.listdir(\"/content/drive/MyDrive/FoodVisionModels/Custom Images\")]\n",
    "# custom_food_images"
   ]
  },
  {
   "cell_type": "code",
   "execution_count": null,
   "metadata": {
    "id": "p7R6cOHaL41A",
    "trusted": true
   },
   "outputs": [],
   "source": [
    "mixed_precision.set_global_policy(policy='mixed_float16')\n",
    "\n",
    "def pred_plot_custom(folder_path):\n",
    "  import os\n",
    "\n",
    "  custom_food_images = [folder_path + img_path for img_path in os.listdir(folder_path)]\n",
    "  i=0\n",
    "  fig,a =  plt.subplots(len(custom_food_images),2, figsize=(15, 5*len(custom_food_images)))\n",
    "\n",
    "  for img in custom_food_images:\n",
    "    img = load_and_prep_image(img, scale=False) \n",
    "    pred_prob = model.predict(tf.expand_dims(img, axis=0)) \n",
    "    pred_class = class_names[pred_prob.argmax()]\n",
    "    top_5_i = (pred_prob.argsort())[0][-5:][::-1]\n",
    "    values = pred_prob[0][top_5_i] \n",
    "    labels = []\n",
    "    for x in range(5):\n",
    "      labels.append(class_names[top_5_i[x]])\n",
    "\n",
    "    # Plotting Image\n",
    "    a[i][0].imshow(img/255.) \n",
    "    a[i][0].set_title(f\"Prediction: {pred_class}   Probability: {pred_prob.max():.2f}\")\n",
    "    a[i][0].axis(False)\n",
    "\n",
    "    # Plotting Models Top 5 Predictions\n",
    "    a[i][1].bar(labels, values, color='orange');\n",
    "    a[i][1].set_title('Top 5 Predictions')\n",
    "    i=i+1"
   ]
  },
  {
   "cell_type": "code",
   "execution_count": null,
   "metadata": {
    "id": "z8jTu2iWM2vK",
    "outputId": "410065ba-aee8-4b64-9142-f64d4bcd5f8e",
    "trusted": true
   },
   "outputs": [],
   "source": [
    "pred_plot_custom(\"/kaggle/input/mydataset2/\")"
   ]
  }
 ],
 "metadata": {
  "accelerator": "GPU",
  "colab": {
   "collapsed_sections": [],
   "include_colab_link": true,
   "name": "model-training.ipynb",
   "provenance": []
  },
  "kaggle": {
   "accelerator": "nvidiaTeslaT4",
   "dataSources": [
    {
     "datasetId": 4987280,
     "sourceId": 8385457,
     "sourceType": "datasetVersion"
    },
    {
     "datasetId": 4992610,
     "sourceId": 8392836,
     "sourceType": "datasetVersion"
    }
   ],
   "dockerImageVersionId": 30698,
   "isGpuEnabled": true,
   "isInternetEnabled": true,
   "language": "python",
   "sourceType": "notebook"
  },
  "kernelspec": {
   "display_name": "Python 3",
   "language": "python",
   "name": "python3"
  },
  "language_info": {
   "codemirror_mode": {
    "name": "ipython",
    "version": 3
   },
   "file_extension": ".py",
   "mimetype": "text/x-python",
   "name": "python",
   "nbconvert_exporter": "python",
   "pygments_lexer": "ipython3",
   "version": "3.10.13"
  },
  "widgets": {
   "application/vnd.jupyter.widget-state+json": {
    "043120935e744f2dbaac518478c7e8a7": {
     "model_module": "@jupyter-widgets/controls",
     "model_name": "FloatProgressModel",
     "state": {
      "_dom_classes": [],
      "_model_module": "@jupyter-widgets/controls",
      "_model_module_version": "1.5.0",
      "_model_name": "FloatProgressModel",
      "_view_count": null,
      "_view_module": "@jupyter-widgets/controls",
      "_view_module_version": "1.5.0",
      "_view_name": "ProgressView",
      "bar_style": "danger",
      "description": "100%",
      "description_tooltip": null,
      "layout": "IPY_MODEL_9caff50620f34f8db3f0ddde513eb5ac",
      "max": 25250,
      "min": 0,
      "orientation": "horizontal",
      "style": "IPY_MODEL_1844c6ad40ff4e5ebf46ef4e701f337d",
      "value": 25243
     }
    },
    "05eb4a15609747f5bb12426e89b186bf": {
     "model_module": "@jupyter-widgets/base",
     "model_name": "LayoutModel",
     "state": {
      "_model_module": "@jupyter-widgets/base",
      "_model_module_version": "1.2.0",
      "_model_name": "LayoutModel",
      "_view_count": null,
      "_view_module": "@jupyter-widgets/base",
      "_view_module_version": "1.2.0",
      "_view_name": "LayoutView",
      "align_content": null,
      "align_items": null,
      "align_self": null,
      "border": null,
      "bottom": null,
      "display": null,
      "flex": null,
      "flex_flow": null,
      "grid_area": null,
      "grid_auto_columns": null,
      "grid_auto_flow": null,
      "grid_auto_rows": null,
      "grid_column": null,
      "grid_gap": null,
      "grid_row": null,
      "grid_template_areas": null,
      "grid_template_columns": null,
      "grid_template_rows": null,
      "height": null,
      "justify_content": null,
      "justify_items": null,
      "left": null,
      "margin": null,
      "max_height": null,
      "max_width": null,
      "min_height": null,
      "min_width": null,
      "object_fit": null,
      "object_position": null,
      "order": null,
      "overflow": null,
      "overflow_x": null,
      "overflow_y": null,
      "padding": null,
      "right": null,
      "top": null,
      "visibility": null,
      "width": null
     }
    },
    "05f1de0498a74bd29da6eb87d0b4cff1": {
     "model_module": "@jupyter-widgets/base",
     "model_name": "LayoutModel",
     "state": {
      "_model_module": "@jupyter-widgets/base",
      "_model_module_version": "1.2.0",
      "_model_name": "LayoutModel",
      "_view_count": null,
      "_view_module": "@jupyter-widgets/base",
      "_view_module_version": "1.2.0",
      "_view_name": "LayoutView",
      "align_content": null,
      "align_items": null,
      "align_self": null,
      "border": null,
      "bottom": null,
      "display": null,
      "flex": null,
      "flex_flow": null,
      "grid_area": null,
      "grid_auto_columns": null,
      "grid_auto_flow": null,
      "grid_auto_rows": null,
      "grid_column": null,
      "grid_gap": null,
      "grid_row": null,
      "grid_template_areas": null,
      "grid_template_columns": null,
      "grid_template_rows": null,
      "height": null,
      "justify_content": null,
      "justify_items": null,
      "left": null,
      "margin": null,
      "max_height": null,
      "max_width": null,
      "min_height": null,
      "min_width": null,
      "object_fit": null,
      "object_position": null,
      "order": null,
      "overflow": null,
      "overflow_x": null,
      "overflow_y": null,
      "padding": null,
      "right": null,
      "top": null,
      "visibility": null,
      "width": null
     }
    },
    "09a11206ef7b4ce393ec46b41b2528a9": {
     "model_module": "@jupyter-widgets/controls",
     "model_name": "DescriptionStyleModel",
     "state": {
      "_model_module": "@jupyter-widgets/controls",
      "_model_module_version": "1.5.0",
      "_model_name": "DescriptionStyleModel",
      "_view_count": null,
      "_view_module": "@jupyter-widgets/base",
      "_view_module_version": "1.2.0",
      "_view_name": "StyleView",
      "description_width": ""
     }
    },
    "0c157575e60a46fdabc77ecc7d6a89b4": {
     "model_module": "@jupyter-widgets/controls",
     "model_name": "FloatProgressModel",
     "state": {
      "_dom_classes": [],
      "_model_module": "@jupyter-widgets/controls",
      "_model_module_version": "1.5.0",
      "_model_name": "FloatProgressModel",
      "_view_count": null,
      "_view_module": "@jupyter-widgets/controls",
      "_view_module_version": "1.5.0",
      "_view_name": "ProgressView",
      "bar_style": "info",
      "description": "",
      "description_tooltip": null,
      "layout": "IPY_MODEL_87409cecd6994df7915f3bc89f360e4f",
      "max": 1,
      "min": 0,
      "orientation": "horizontal",
      "style": "IPY_MODEL_e863af4558ae4265b42d140e355c2868",
      "value": 1
     }
    },
    "0fa7c570b47b436a99efb4c37c239006": {
     "model_module": "@jupyter-widgets/controls",
     "model_name": "FloatProgressModel",
     "state": {
      "_dom_classes": [],
      "_model_module": "@jupyter-widgets/controls",
      "_model_module_version": "1.5.0",
      "_model_name": "FloatProgressModel",
      "_view_count": null,
      "_view_module": "@jupyter-widgets/controls",
      "_view_module_version": "1.5.0",
      "_view_name": "ProgressView",
      "bar_style": "info",
      "description": "",
      "description_tooltip": null,
      "layout": "IPY_MODEL_2bbda9389688420d83fb40dde458cac9",
      "max": 1,
      "min": 0,
      "orientation": "horizontal",
      "style": "IPY_MODEL_fbb37046336f4489811eecb2b0466c59",
      "value": 1
     }
    },
    "101ec1739a004c3abf25d929cc215bbe": {
     "model_module": "@jupyter-widgets/controls",
     "model_name": "HBoxModel",
     "state": {
      "_dom_classes": [],
      "_model_module": "@jupyter-widgets/controls",
      "_model_module_version": "1.5.0",
      "_model_name": "HBoxModel",
      "_view_count": null,
      "_view_module": "@jupyter-widgets/controls",
      "_view_module_version": "1.5.0",
      "_view_name": "HBoxView",
      "box_style": "",
      "children": [
       "IPY_MODEL_043120935e744f2dbaac518478c7e8a7",
       "IPY_MODEL_4e2ef55e35ac485bb7c5f24ce71d8f77"
      ],
      "layout": "IPY_MODEL_05f1de0498a74bd29da6eb87d0b4cff1"
     }
    },
    "138f651e5b184739b893df4b3ca24aa4": {
     "model_module": "@jupyter-widgets/controls",
     "model_name": "DescriptionStyleModel",
     "state": {
      "_model_module": "@jupyter-widgets/controls",
      "_model_module_version": "1.5.0",
      "_model_name": "DescriptionStyleModel",
      "_view_count": null,
      "_view_module": "@jupyter-widgets/base",
      "_view_module_version": "1.2.0",
      "_view_name": "StyleView",
      "description_width": ""
     }
    },
    "1844c6ad40ff4e5ebf46ef4e701f337d": {
     "model_module": "@jupyter-widgets/controls",
     "model_name": "ProgressStyleModel",
     "state": {
      "_model_module": "@jupyter-widgets/controls",
      "_model_module_version": "1.5.0",
      "_model_name": "ProgressStyleModel",
      "_view_count": null,
      "_view_module": "@jupyter-widgets/base",
      "_view_module_version": "1.2.0",
      "_view_name": "StyleView",
      "bar_color": null,
      "description_width": "initial"
     }
    },
    "2506a87b40d745b99c3d7f795b8cdb20": {
     "model_module": "@jupyter-widgets/base",
     "model_name": "LayoutModel",
     "state": {
      "_model_module": "@jupyter-widgets/base",
      "_model_module_version": "1.2.0",
      "_model_name": "LayoutModel",
      "_view_count": null,
      "_view_module": "@jupyter-widgets/base",
      "_view_module_version": "1.2.0",
      "_view_name": "LayoutView",
      "align_content": null,
      "align_items": null,
      "align_self": null,
      "border": null,
      "bottom": null,
      "display": null,
      "flex": null,
      "flex_flow": null,
      "grid_area": null,
      "grid_auto_columns": null,
      "grid_auto_flow": null,
      "grid_auto_rows": null,
      "grid_column": null,
      "grid_gap": null,
      "grid_row": null,
      "grid_template_areas": null,
      "grid_template_columns": null,
      "grid_template_rows": null,
      "height": null,
      "justify_content": null,
      "justify_items": null,
      "left": null,
      "margin": null,
      "max_height": null,
      "max_width": null,
      "min_height": null,
      "min_width": null,
      "object_fit": null,
      "object_position": null,
      "order": null,
      "overflow": null,
      "overflow_x": null,
      "overflow_y": null,
      "padding": null,
      "right": null,
      "top": null,
      "visibility": null,
      "width": null
     }
    },
    "269fdc5eb2764412982929f4898c1ea4": {
     "model_module": "@jupyter-widgets/controls",
     "model_name": "HBoxModel",
     "state": {
      "_dom_classes": [],
      "_model_module": "@jupyter-widgets/controls",
      "_model_module_version": "1.5.0",
      "_model_name": "HBoxModel",
      "_view_count": null,
      "_view_module": "@jupyter-widgets/controls",
      "_view_module_version": "1.5.0",
      "_view_name": "HBoxView",
      "box_style": "",
      "children": [
       "IPY_MODEL_f9ad9ee416e64602b60fe2b8e3ac3e3d",
       "IPY_MODEL_9087254ef133451db08c210caa75f924"
      ],
      "layout": "IPY_MODEL_eda65897e83947c8a93a5a5fe72a2221"
     }
    },
    "28b7d8df62044a3ba8468b5d968eef44": {
     "model_module": "@jupyter-widgets/controls",
     "model_name": "DescriptionStyleModel",
     "state": {
      "_model_module": "@jupyter-widgets/controls",
      "_model_module_version": "1.5.0",
      "_model_name": "DescriptionStyleModel",
      "_view_count": null,
      "_view_module": "@jupyter-widgets/base",
      "_view_module_version": "1.2.0",
      "_view_name": "StyleView",
      "description_width": ""
     }
    },
    "2b3d259d71f94a67a30b395b58f125da": {
     "model_module": "@jupyter-widgets/controls",
     "model_name": "FloatProgressModel",
     "state": {
      "_dom_classes": [],
      "_model_module": "@jupyter-widgets/controls",
      "_model_module_version": "1.5.0",
      "_model_name": "FloatProgressModel",
      "_view_count": null,
      "_view_module": "@jupyter-widgets/controls",
      "_view_module_version": "1.5.0",
      "_view_name": "ProgressView",
      "bar_style": "success",
      "description": "Dl Size...: 100%",
      "description_tooltip": null,
      "layout": "IPY_MODEL_05eb4a15609747f5bb12426e89b186bf",
      "max": 1,
      "min": 0,
      "orientation": "horizontal",
      "style": "IPY_MODEL_a469725f9158454b82dc7091573e49fe",
      "value": 1
     }
    },
    "2bbda9389688420d83fb40dde458cac9": {
     "model_module": "@jupyter-widgets/base",
     "model_name": "LayoutModel",
     "state": {
      "_model_module": "@jupyter-widgets/base",
      "_model_module_version": "1.2.0",
      "_model_name": "LayoutModel",
      "_view_count": null,
      "_view_module": "@jupyter-widgets/base",
      "_view_module_version": "1.2.0",
      "_view_name": "LayoutView",
      "align_content": null,
      "align_items": null,
      "align_self": null,
      "border": null,
      "bottom": null,
      "display": null,
      "flex": null,
      "flex_flow": null,
      "grid_area": null,
      "grid_auto_columns": null,
      "grid_auto_flow": null,
      "grid_auto_rows": null,
      "grid_column": null,
      "grid_gap": null,
      "grid_row": null,
      "grid_template_areas": null,
      "grid_template_columns": null,
      "grid_template_rows": null,
      "height": null,
      "justify_content": null,
      "justify_items": null,
      "left": null,
      "margin": null,
      "max_height": null,
      "max_width": null,
      "min_height": null,
      "min_width": null,
      "object_fit": null,
      "object_position": null,
      "order": null,
      "overflow": null,
      "overflow_x": null,
      "overflow_y": null,
      "padding": null,
      "right": null,
      "top": null,
      "visibility": null,
      "width": null
     }
    },
    "2cfb7a7d86a649ceba2a30db931199ad": {
     "model_module": "@jupyter-widgets/controls",
     "model_name": "ProgressStyleModel",
     "state": {
      "_model_module": "@jupyter-widgets/controls",
      "_model_module_version": "1.5.0",
      "_model_name": "ProgressStyleModel",
      "_view_count": null,
      "_view_module": "@jupyter-widgets/base",
      "_view_module_version": "1.2.0",
      "_view_name": "StyleView",
      "bar_color": null,
      "description_width": "initial"
     }
    },
    "3958a1cabdb046ffb6447d55e3b670ee": {
     "model_module": "@jupyter-widgets/controls",
     "model_name": "HTMLModel",
     "state": {
      "_dom_classes": [],
      "_model_module": "@jupyter-widgets/controls",
      "_model_module_version": "1.5.0",
      "_model_name": "HTMLModel",
      "_view_count": null,
      "_view_module": "@jupyter-widgets/controls",
      "_view_module_version": "1.5.0",
      "_view_name": "HTMLView",
      "description": "",
      "description_tooltip": null,
      "layout": "IPY_MODEL_723ac288169c43be9c8c7fdfc4cf504b",
      "placeholder": "​",
      "style": "IPY_MODEL_09a11206ef7b4ce393ec46b41b2528a9",
      "value": " 4764/4764 [06:35&lt;00:00, 12.04 MiB/s]"
     }
    },
    "3b5f131ffaae4556bb7de4f933bd00be": {
     "model_module": "@jupyter-widgets/controls",
     "model_name": "DescriptionStyleModel",
     "state": {
      "_model_module": "@jupyter-widgets/controls",
      "_model_module_version": "1.5.0",
      "_model_name": "DescriptionStyleModel",
      "_view_count": null,
      "_view_module": "@jupyter-widgets/base",
      "_view_module_version": "1.2.0",
      "_view_name": "StyleView",
      "description_width": ""
     }
    },
    "3ea57c58d75a4505890f2ef3e8d1cfb2": {
     "model_module": "@jupyter-widgets/base",
     "model_name": "LayoutModel",
     "state": {
      "_model_module": "@jupyter-widgets/base",
      "_model_module_version": "1.2.0",
      "_model_name": "LayoutModel",
      "_view_count": null,
      "_view_module": "@jupyter-widgets/base",
      "_view_module_version": "1.2.0",
      "_view_name": "LayoutView",
      "align_content": null,
      "align_items": null,
      "align_self": null,
      "border": null,
      "bottom": null,
      "display": null,
      "flex": null,
      "flex_flow": null,
      "grid_area": null,
      "grid_auto_columns": null,
      "grid_auto_flow": null,
      "grid_auto_rows": null,
      "grid_column": null,
      "grid_gap": null,
      "grid_row": null,
      "grid_template_areas": null,
      "grid_template_columns": null,
      "grid_template_rows": null,
      "height": null,
      "justify_content": null,
      "justify_items": null,
      "left": null,
      "margin": null,
      "max_height": null,
      "max_width": null,
      "min_height": null,
      "min_width": null,
      "object_fit": null,
      "object_position": null,
      "order": null,
      "overflow": null,
      "overflow_x": null,
      "overflow_y": null,
      "padding": null,
      "right": null,
      "top": null,
      "visibility": null,
      "width": null
     }
    },
    "47d257ec32a7447baddb8947359bcfdf": {
     "model_module": "@jupyter-widgets/controls",
     "model_name": "HTMLModel",
     "state": {
      "_dom_classes": [],
      "_model_module": "@jupyter-widgets/controls",
      "_model_module_version": "1.5.0",
      "_model_name": "HTMLModel",
      "_view_count": null,
      "_view_module": "@jupyter-widgets/controls",
      "_view_module_version": "1.5.0",
      "_view_name": "HTMLView",
      "description": "",
      "description_tooltip": null,
      "layout": "IPY_MODEL_ad35741a7ab24f519b95815af70a5904",
      "placeholder": "​",
      "style": "IPY_MODEL_df86c0103cb04259ab06890ca56ca35b",
      "value": " 1/1 [06:35&lt;00:00, 395.73s/ url]"
     }
    },
    "480696c642d947f393ee1a6f1e0c404b": {
     "model_module": "@jupyter-widgets/controls",
     "model_name": "FloatProgressModel",
     "state": {
      "_dom_classes": [],
      "_model_module": "@jupyter-widgets/controls",
      "_model_module_version": "1.5.0",
      "_model_name": "FloatProgressModel",
      "_view_count": null,
      "_view_module": "@jupyter-widgets/controls",
      "_view_module_version": "1.5.0",
      "_view_name": "ProgressView",
      "bar_style": "success",
      "description": "Dl Completed...: 100%",
      "description_tooltip": null,
      "layout": "IPY_MODEL_3ea57c58d75a4505890f2ef3e8d1cfb2",
      "max": 1,
      "min": 0,
      "orientation": "horizontal",
      "style": "IPY_MODEL_b8133d796417486da41936f469e39dd3",
      "value": 1
     }
    },
    "487a9a598317447d85f93bb786bac5a6": {
     "model_module": "@jupyter-widgets/controls",
     "model_name": "HTMLModel",
     "state": {
      "_dom_classes": [],
      "_model_module": "@jupyter-widgets/controls",
      "_model_module_version": "1.5.0",
      "_model_name": "HTMLModel",
      "_view_count": null,
      "_view_module": "@jupyter-widgets/controls",
      "_view_module_version": "1.5.0",
      "_view_name": "HTMLView",
      "description": "",
      "description_tooltip": null,
      "layout": "IPY_MODEL_f7991d7e097843d09296715745547b4c",
      "placeholder": "​",
      "style": "IPY_MODEL_b1d35189eb8c4d06bc6efe15641e6ad0",
      "value": " 25250/0 [00:54&lt;00:00, 486.84 examples/s]"
     }
    },
    "4e2ef55e35ac485bb7c5f24ce71d8f77": {
     "model_module": "@jupyter-widgets/controls",
     "model_name": "HTMLModel",
     "state": {
      "_dom_classes": [],
      "_model_module": "@jupyter-widgets/controls",
      "_model_module_version": "1.5.0",
      "_model_name": "HTMLModel",
      "_view_count": null,
      "_view_module": "@jupyter-widgets/controls",
      "_view_module_version": "1.5.0",
      "_view_name": "HTMLView",
      "description": "",
      "description_tooltip": null,
      "layout": "IPY_MODEL_e133b90a6db04fb8a03a093776a646bd",
      "placeholder": "​",
      "style": "IPY_MODEL_138f651e5b184739b893df4b3ca24aa4",
      "value": " 25243/25250 [00:30&lt;00:00, 775.59 examples/s]"
     }
    },
    "50e5d126bbe04e1a837c00cb13e84819": {
     "model_module": "@jupyter-widgets/controls",
     "model_name": "FloatProgressModel",
     "state": {
      "_dom_classes": [],
      "_model_module": "@jupyter-widgets/controls",
      "_model_module_version": "1.5.0",
      "_model_name": "FloatProgressModel",
      "_view_count": null,
      "_view_module": "@jupyter-widgets/controls",
      "_view_module_version": "1.5.0",
      "_view_name": "ProgressView",
      "bar_style": "success",
      "description": "Extraction completed...: 100%",
      "description_tooltip": null,
      "layout": "IPY_MODEL_f4fc029e6cb54e97a9861bb879f9a9d1",
      "max": 1,
      "min": 0,
      "orientation": "horizontal",
      "style": "IPY_MODEL_2cfb7a7d86a649ceba2a30db931199ad",
      "value": 1
     }
    },
    "54a3f8e6c14c4b39b1b2694fb3d859ee": {
     "model_module": "@jupyter-widgets/base",
     "model_name": "LayoutModel",
     "state": {
      "_model_module": "@jupyter-widgets/base",
      "_model_module_version": "1.2.0",
      "_model_name": "LayoutModel",
      "_view_count": null,
      "_view_module": "@jupyter-widgets/base",
      "_view_module_version": "1.2.0",
      "_view_name": "LayoutView",
      "align_content": null,
      "align_items": null,
      "align_self": null,
      "border": null,
      "bottom": null,
      "display": null,
      "flex": null,
      "flex_flow": null,
      "grid_area": null,
      "grid_auto_columns": null,
      "grid_auto_flow": null,
      "grid_auto_rows": null,
      "grid_column": null,
      "grid_gap": null,
      "grid_row": null,
      "grid_template_areas": null,
      "grid_template_columns": null,
      "grid_template_rows": null,
      "height": null,
      "justify_content": null,
      "justify_items": null,
      "left": null,
      "margin": null,
      "max_height": null,
      "max_width": null,
      "min_height": null,
      "min_width": null,
      "object_fit": null,
      "object_position": null,
      "order": null,
      "overflow": null,
      "overflow_x": null,
      "overflow_y": null,
      "padding": null,
      "right": null,
      "top": null,
      "visibility": null,
      "width": null
     }
    },
    "5ef28ef270b24248bcdcda5a636b07b2": {
     "model_module": "@jupyter-widgets/base",
     "model_name": "LayoutModel",
     "state": {
      "_model_module": "@jupyter-widgets/base",
      "_model_module_version": "1.2.0",
      "_model_name": "LayoutModel",
      "_view_count": null,
      "_view_module": "@jupyter-widgets/base",
      "_view_module_version": "1.2.0",
      "_view_name": "LayoutView",
      "align_content": null,
      "align_items": null,
      "align_self": null,
      "border": null,
      "bottom": null,
      "display": null,
      "flex": null,
      "flex_flow": null,
      "grid_area": null,
      "grid_auto_columns": null,
      "grid_auto_flow": null,
      "grid_auto_rows": null,
      "grid_column": null,
      "grid_gap": null,
      "grid_row": null,
      "grid_template_areas": null,
      "grid_template_columns": null,
      "grid_template_rows": null,
      "height": null,
      "justify_content": null,
      "justify_items": null,
      "left": null,
      "margin": null,
      "max_height": null,
      "max_width": null,
      "min_height": null,
      "min_width": null,
      "object_fit": null,
      "object_position": null,
      "order": null,
      "overflow": null,
      "overflow_x": null,
      "overflow_y": null,
      "padding": null,
      "right": null,
      "top": null,
      "visibility": null,
      "width": null
     }
    },
    "61d3b5be01264f8da655a4e2feb7da9a": {
     "model_module": "@jupyter-widgets/controls",
     "model_name": "HBoxModel",
     "state": {
      "_dom_classes": [],
      "_model_module": "@jupyter-widgets/controls",
      "_model_module_version": "1.5.0",
      "_model_name": "HBoxModel",
      "_view_count": null,
      "_view_module": "@jupyter-widgets/controls",
      "_view_module_version": "1.5.0",
      "_view_name": "HBoxView",
      "box_style": "",
      "children": [
       "IPY_MODEL_0c157575e60a46fdabc77ecc7d6a89b4",
       "IPY_MODEL_fcec6924330245c4964e7c04609d0259"
      ],
      "layout": "IPY_MODEL_9440dee6f99d4926a885f0dab1bf1624"
     }
    },
    "675a03801867407285582cd6a38ae94f": {
     "model_module": "@jupyter-widgets/controls",
     "model_name": "HBoxModel",
     "state": {
      "_dom_classes": [],
      "_model_module": "@jupyter-widgets/controls",
      "_model_module_version": "1.5.0",
      "_model_name": "HBoxModel",
      "_view_count": null,
      "_view_module": "@jupyter-widgets/controls",
      "_view_module_version": "1.5.0",
      "_view_name": "HBoxView",
      "box_style": "",
      "children": [
       "IPY_MODEL_50e5d126bbe04e1a837c00cb13e84819",
       "IPY_MODEL_8b29420892614f0886df1a2668d2733e"
      ],
      "layout": "IPY_MODEL_2506a87b40d745b99c3d7f795b8cdb20"
     }
    },
    "676d245e73c148e8a7e77452d23ed42b": {
     "model_module": "@jupyter-widgets/controls",
     "model_name": "HBoxModel",
     "state": {
      "_dom_classes": [],
      "_model_module": "@jupyter-widgets/controls",
      "_model_module_version": "1.5.0",
      "_model_name": "HBoxModel",
      "_view_count": null,
      "_view_module": "@jupyter-widgets/controls",
      "_view_module_version": "1.5.0",
      "_view_name": "HBoxView",
      "box_style": "",
      "children": [
       "IPY_MODEL_2b3d259d71f94a67a30b395b58f125da",
       "IPY_MODEL_3958a1cabdb046ffb6447d55e3b670ee"
      ],
      "layout": "IPY_MODEL_7c67303d84db4b3bb2924379d76b07cf"
     }
    },
    "6963a4d5c8f44e59ae4f2e6c9e74fbe1": {
     "model_module": "@jupyter-widgets/controls",
     "model_name": "ProgressStyleModel",
     "state": {
      "_model_module": "@jupyter-widgets/controls",
      "_model_module_version": "1.5.0",
      "_model_name": "ProgressStyleModel",
      "_view_count": null,
      "_view_module": "@jupyter-widgets/base",
      "_view_module_version": "1.2.0",
      "_view_name": "StyleView",
      "bar_color": null,
      "description_width": "initial"
     }
    },
    "6de91faaa4ef44c3a8217ceb1919e561": {
     "model_module": "@jupyter-widgets/base",
     "model_name": "LayoutModel",
     "state": {
      "_model_module": "@jupyter-widgets/base",
      "_model_module_version": "1.2.0",
      "_model_name": "LayoutModel",
      "_view_count": null,
      "_view_module": "@jupyter-widgets/base",
      "_view_module_version": "1.2.0",
      "_view_name": "LayoutView",
      "align_content": null,
      "align_items": null,
      "align_self": null,
      "border": null,
      "bottom": null,
      "display": null,
      "flex": null,
      "flex_flow": null,
      "grid_area": null,
      "grid_auto_columns": null,
      "grid_auto_flow": null,
      "grid_auto_rows": null,
      "grid_column": null,
      "grid_gap": null,
      "grid_row": null,
      "grid_template_areas": null,
      "grid_template_columns": null,
      "grid_template_rows": null,
      "height": null,
      "justify_content": null,
      "justify_items": null,
      "left": null,
      "margin": null,
      "max_height": null,
      "max_width": null,
      "min_height": null,
      "min_width": null,
      "object_fit": null,
      "object_position": null,
      "order": null,
      "overflow": null,
      "overflow_x": null,
      "overflow_y": null,
      "padding": null,
      "right": null,
      "top": null,
      "visibility": null,
      "width": null
     }
    },
    "723ac288169c43be9c8c7fdfc4cf504b": {
     "model_module": "@jupyter-widgets/base",
     "model_name": "LayoutModel",
     "state": {
      "_model_module": "@jupyter-widgets/base",
      "_model_module_version": "1.2.0",
      "_model_name": "LayoutModel",
      "_view_count": null,
      "_view_module": "@jupyter-widgets/base",
      "_view_module_version": "1.2.0",
      "_view_name": "LayoutView",
      "align_content": null,
      "align_items": null,
      "align_self": null,
      "border": null,
      "bottom": null,
      "display": null,
      "flex": null,
      "flex_flow": null,
      "grid_area": null,
      "grid_auto_columns": null,
      "grid_auto_flow": null,
      "grid_auto_rows": null,
      "grid_column": null,
      "grid_gap": null,
      "grid_row": null,
      "grid_template_areas": null,
      "grid_template_columns": null,
      "grid_template_rows": null,
      "height": null,
      "justify_content": null,
      "justify_items": null,
      "left": null,
      "margin": null,
      "max_height": null,
      "max_width": null,
      "min_height": null,
      "min_width": null,
      "object_fit": null,
      "object_position": null,
      "order": null,
      "overflow": null,
      "overflow_x": null,
      "overflow_y": null,
      "padding": null,
      "right": null,
      "top": null,
      "visibility": null,
      "width": null
     }
    },
    "7c67303d84db4b3bb2924379d76b07cf": {
     "model_module": "@jupyter-widgets/base",
     "model_name": "LayoutModel",
     "state": {
      "_model_module": "@jupyter-widgets/base",
      "_model_module_version": "1.2.0",
      "_model_name": "LayoutModel",
      "_view_count": null,
      "_view_module": "@jupyter-widgets/base",
      "_view_module_version": "1.2.0",
      "_view_name": "LayoutView",
      "align_content": null,
      "align_items": null,
      "align_self": null,
      "border": null,
      "bottom": null,
      "display": null,
      "flex": null,
      "flex_flow": null,
      "grid_area": null,
      "grid_auto_columns": null,
      "grid_auto_flow": null,
      "grid_auto_rows": null,
      "grid_column": null,
      "grid_gap": null,
      "grid_row": null,
      "grid_template_areas": null,
      "grid_template_columns": null,
      "grid_template_rows": null,
      "height": null,
      "justify_content": null,
      "justify_items": null,
      "left": null,
      "margin": null,
      "max_height": null,
      "max_width": null,
      "min_height": null,
      "min_width": null,
      "object_fit": null,
      "object_position": null,
      "order": null,
      "overflow": null,
      "overflow_x": null,
      "overflow_y": null,
      "padding": null,
      "right": null,
      "top": null,
      "visibility": null,
      "width": null
     }
    },
    "87409cecd6994df7915f3bc89f360e4f": {
     "model_module": "@jupyter-widgets/base",
     "model_name": "LayoutModel",
     "state": {
      "_model_module": "@jupyter-widgets/base",
      "_model_module_version": "1.2.0",
      "_model_name": "LayoutModel",
      "_view_count": null,
      "_view_module": "@jupyter-widgets/base",
      "_view_module_version": "1.2.0",
      "_view_name": "LayoutView",
      "align_content": null,
      "align_items": null,
      "align_self": null,
      "border": null,
      "bottom": null,
      "display": null,
      "flex": null,
      "flex_flow": null,
      "grid_area": null,
      "grid_auto_columns": null,
      "grid_auto_flow": null,
      "grid_auto_rows": null,
      "grid_column": null,
      "grid_gap": null,
      "grid_row": null,
      "grid_template_areas": null,
      "grid_template_columns": null,
      "grid_template_rows": null,
      "height": null,
      "justify_content": null,
      "justify_items": null,
      "left": null,
      "margin": null,
      "max_height": null,
      "max_width": null,
      "min_height": null,
      "min_width": null,
      "object_fit": null,
      "object_position": null,
      "order": null,
      "overflow": null,
      "overflow_x": null,
      "overflow_y": null,
      "padding": null,
      "right": null,
      "top": null,
      "visibility": null,
      "width": null
     }
    },
    "8b29420892614f0886df1a2668d2733e": {
     "model_module": "@jupyter-widgets/controls",
     "model_name": "HTMLModel",
     "state": {
      "_dom_classes": [],
      "_model_module": "@jupyter-widgets/controls",
      "_model_module_version": "1.5.0",
      "_model_name": "HTMLModel",
      "_view_count": null,
      "_view_module": "@jupyter-widgets/controls",
      "_view_module_version": "1.5.0",
      "_view_name": "HTMLView",
      "description": "",
      "description_tooltip": null,
      "layout": "IPY_MODEL_d5ab147c730d4ba6bc8f4b608f6370d7",
      "placeholder": "​",
      "style": "IPY_MODEL_3b5f131ffaae4556bb7de4f933bd00be",
      "value": " 1/1 [06:35&lt;00:00, 395.66s/ file]"
     }
    },
    "9087254ef133451db08c210caa75f924": {
     "model_module": "@jupyter-widgets/controls",
     "model_name": "HTMLModel",
     "state": {
      "_dom_classes": [],
      "_model_module": "@jupyter-widgets/controls",
      "_model_module_version": "1.5.0",
      "_model_name": "HTMLModel",
      "_view_count": null,
      "_view_module": "@jupyter-widgets/controls",
      "_view_module_version": "1.5.0",
      "_view_name": "HTMLView",
      "description": "",
      "description_tooltip": null,
      "layout": "IPY_MODEL_6de91faaa4ef44c3a8217ceb1919e561",
      "placeholder": "​",
      "style": "IPY_MODEL_28b7d8df62044a3ba8468b5d968eef44",
      "value": " 75659/75750 [01:30&lt;00:00, 914.51 examples/s]"
     }
    },
    "9440dee6f99d4926a885f0dab1bf1624": {
     "model_module": "@jupyter-widgets/base",
     "model_name": "LayoutModel",
     "state": {
      "_model_module": "@jupyter-widgets/base",
      "_model_module_version": "1.2.0",
      "_model_name": "LayoutModel",
      "_view_count": null,
      "_view_module": "@jupyter-widgets/base",
      "_view_module_version": "1.2.0",
      "_view_name": "LayoutView",
      "align_content": null,
      "align_items": null,
      "align_self": null,
      "border": null,
      "bottom": null,
      "display": null,
      "flex": null,
      "flex_flow": null,
      "grid_area": null,
      "grid_auto_columns": null,
      "grid_auto_flow": null,
      "grid_auto_rows": null,
      "grid_column": null,
      "grid_gap": null,
      "grid_row": null,
      "grid_template_areas": null,
      "grid_template_columns": null,
      "grid_template_rows": null,
      "height": null,
      "justify_content": null,
      "justify_items": null,
      "left": null,
      "margin": null,
      "max_height": null,
      "max_width": null,
      "min_height": null,
      "min_width": null,
      "object_fit": null,
      "object_position": null,
      "order": null,
      "overflow": null,
      "overflow_x": null,
      "overflow_y": null,
      "padding": null,
      "right": null,
      "top": null,
      "visibility": null,
      "width": null
     }
    },
    "9caff50620f34f8db3f0ddde513eb5ac": {
     "model_module": "@jupyter-widgets/base",
     "model_name": "LayoutModel",
     "state": {
      "_model_module": "@jupyter-widgets/base",
      "_model_module_version": "1.2.0",
      "_model_name": "LayoutModel",
      "_view_count": null,
      "_view_module": "@jupyter-widgets/base",
      "_view_module_version": "1.2.0",
      "_view_name": "LayoutView",
      "align_content": null,
      "align_items": null,
      "align_self": null,
      "border": null,
      "bottom": null,
      "display": null,
      "flex": null,
      "flex_flow": null,
      "grid_area": null,
      "grid_auto_columns": null,
      "grid_auto_flow": null,
      "grid_auto_rows": null,
      "grid_column": null,
      "grid_gap": null,
      "grid_row": null,
      "grid_template_areas": null,
      "grid_template_columns": null,
      "grid_template_rows": null,
      "height": null,
      "justify_content": null,
      "justify_items": null,
      "left": null,
      "margin": null,
      "max_height": null,
      "max_width": null,
      "min_height": null,
      "min_width": null,
      "object_fit": null,
      "object_position": null,
      "order": null,
      "overflow": null,
      "overflow_x": null,
      "overflow_y": null,
      "padding": null,
      "right": null,
      "top": null,
      "visibility": null,
      "width": null
     }
    },
    "9e0c76e14ab4435ab72856b7bf3f7f2d": {
     "model_module": "@jupyter-widgets/controls",
     "model_name": "HBoxModel",
     "state": {
      "_dom_classes": [],
      "_model_module": "@jupyter-widgets/controls",
      "_model_module_version": "1.5.0",
      "_model_name": "HBoxModel",
      "_view_count": null,
      "_view_module": "@jupyter-widgets/controls",
      "_view_module_version": "1.5.0",
      "_view_name": "HBoxView",
      "box_style": "",
      "children": [
       "IPY_MODEL_480696c642d947f393ee1a6f1e0c404b",
       "IPY_MODEL_47d257ec32a7447baddb8947359bcfdf"
      ],
      "layout": "IPY_MODEL_5ef28ef270b24248bcdcda5a636b07b2"
     }
    },
    "9e8f0ec24fd94dcf86367f4e5ad66e17": {
     "model_module": "@jupyter-widgets/controls",
     "model_name": "DescriptionStyleModel",
     "state": {
      "_model_module": "@jupyter-widgets/controls",
      "_model_module_version": "1.5.0",
      "_model_name": "DescriptionStyleModel",
      "_view_count": null,
      "_view_module": "@jupyter-widgets/base",
      "_view_module_version": "1.2.0",
      "_view_name": "StyleView",
      "description_width": ""
     }
    },
    "a469725f9158454b82dc7091573e49fe": {
     "model_module": "@jupyter-widgets/controls",
     "model_name": "ProgressStyleModel",
     "state": {
      "_model_module": "@jupyter-widgets/controls",
      "_model_module_version": "1.5.0",
      "_model_name": "ProgressStyleModel",
      "_view_count": null,
      "_view_module": "@jupyter-widgets/base",
      "_view_module_version": "1.2.0",
      "_view_name": "StyleView",
      "bar_color": null,
      "description_width": "initial"
     }
    },
    "ad35741a7ab24f519b95815af70a5904": {
     "model_module": "@jupyter-widgets/base",
     "model_name": "LayoutModel",
     "state": {
      "_model_module": "@jupyter-widgets/base",
      "_model_module_version": "1.2.0",
      "_model_name": "LayoutModel",
      "_view_count": null,
      "_view_module": "@jupyter-widgets/base",
      "_view_module_version": "1.2.0",
      "_view_name": "LayoutView",
      "align_content": null,
      "align_items": null,
      "align_self": null,
      "border": null,
      "bottom": null,
      "display": null,
      "flex": null,
      "flex_flow": null,
      "grid_area": null,
      "grid_auto_columns": null,
      "grid_auto_flow": null,
      "grid_auto_rows": null,
      "grid_column": null,
      "grid_gap": null,
      "grid_row": null,
      "grid_template_areas": null,
      "grid_template_columns": null,
      "grid_template_rows": null,
      "height": null,
      "justify_content": null,
      "justify_items": null,
      "left": null,
      "margin": null,
      "max_height": null,
      "max_width": null,
      "min_height": null,
      "min_width": null,
      "object_fit": null,
      "object_position": null,
      "order": null,
      "overflow": null,
      "overflow_x": null,
      "overflow_y": null,
      "padding": null,
      "right": null,
      "top": null,
      "visibility": null,
      "width": null
     }
    },
    "b1d35189eb8c4d06bc6efe15641e6ad0": {
     "model_module": "@jupyter-widgets/controls",
     "model_name": "DescriptionStyleModel",
     "state": {
      "_model_module": "@jupyter-widgets/controls",
      "_model_module_version": "1.5.0",
      "_model_name": "DescriptionStyleModel",
      "_view_count": null,
      "_view_module": "@jupyter-widgets/base",
      "_view_module_version": "1.2.0",
      "_view_name": "StyleView",
      "description_width": ""
     }
    },
    "b8133d796417486da41936f469e39dd3": {
     "model_module": "@jupyter-widgets/controls",
     "model_name": "ProgressStyleModel",
     "state": {
      "_model_module": "@jupyter-widgets/controls",
      "_model_module_version": "1.5.0",
      "_model_name": "ProgressStyleModel",
      "_view_count": null,
      "_view_module": "@jupyter-widgets/base",
      "_view_module_version": "1.2.0",
      "_view_name": "StyleView",
      "bar_color": null,
      "description_width": "initial"
     }
    },
    "becf8fa329f4417bb5b2e4276b4b05c7": {
     "model_module": "@jupyter-widgets/base",
     "model_name": "LayoutModel",
     "state": {
      "_model_module": "@jupyter-widgets/base",
      "_model_module_version": "1.2.0",
      "_model_name": "LayoutModel",
      "_view_count": null,
      "_view_module": "@jupyter-widgets/base",
      "_view_module_version": "1.2.0",
      "_view_name": "LayoutView",
      "align_content": null,
      "align_items": null,
      "align_self": null,
      "border": null,
      "bottom": null,
      "display": null,
      "flex": null,
      "flex_flow": null,
      "grid_area": null,
      "grid_auto_columns": null,
      "grid_auto_flow": null,
      "grid_auto_rows": null,
      "grid_column": null,
      "grid_gap": null,
      "grid_row": null,
      "grid_template_areas": null,
      "grid_template_columns": null,
      "grid_template_rows": null,
      "height": null,
      "justify_content": null,
      "justify_items": null,
      "left": null,
      "margin": null,
      "max_height": null,
      "max_width": null,
      "min_height": null,
      "min_width": null,
      "object_fit": null,
      "object_position": null,
      "order": null,
      "overflow": null,
      "overflow_x": null,
      "overflow_y": null,
      "padding": null,
      "right": null,
      "top": null,
      "visibility": null,
      "width": null
     }
    },
    "d5ab147c730d4ba6bc8f4b608f6370d7": {
     "model_module": "@jupyter-widgets/base",
     "model_name": "LayoutModel",
     "state": {
      "_model_module": "@jupyter-widgets/base",
      "_model_module_version": "1.2.0",
      "_model_name": "LayoutModel",
      "_view_count": null,
      "_view_module": "@jupyter-widgets/base",
      "_view_module_version": "1.2.0",
      "_view_name": "LayoutView",
      "align_content": null,
      "align_items": null,
      "align_self": null,
      "border": null,
      "bottom": null,
      "display": null,
      "flex": null,
      "flex_flow": null,
      "grid_area": null,
      "grid_auto_columns": null,
      "grid_auto_flow": null,
      "grid_auto_rows": null,
      "grid_column": null,
      "grid_gap": null,
      "grid_row": null,
      "grid_template_areas": null,
      "grid_template_columns": null,
      "grid_template_rows": null,
      "height": null,
      "justify_content": null,
      "justify_items": null,
      "left": null,
      "margin": null,
      "max_height": null,
      "max_width": null,
      "min_height": null,
      "min_width": null,
      "object_fit": null,
      "object_position": null,
      "order": null,
      "overflow": null,
      "overflow_x": null,
      "overflow_y": null,
      "padding": null,
      "right": null,
      "top": null,
      "visibility": null,
      "width": null
     }
    },
    "df86c0103cb04259ab06890ca56ca35b": {
     "model_module": "@jupyter-widgets/controls",
     "model_name": "DescriptionStyleModel",
     "state": {
      "_model_module": "@jupyter-widgets/controls",
      "_model_module_version": "1.5.0",
      "_model_name": "DescriptionStyleModel",
      "_view_count": null,
      "_view_module": "@jupyter-widgets/base",
      "_view_module_version": "1.2.0",
      "_view_name": "StyleView",
      "description_width": ""
     }
    },
    "e133b90a6db04fb8a03a093776a646bd": {
     "model_module": "@jupyter-widgets/base",
     "model_name": "LayoutModel",
     "state": {
      "_model_module": "@jupyter-widgets/base",
      "_model_module_version": "1.2.0",
      "_model_name": "LayoutModel",
      "_view_count": null,
      "_view_module": "@jupyter-widgets/base",
      "_view_module_version": "1.2.0",
      "_view_name": "LayoutView",
      "align_content": null,
      "align_items": null,
      "align_self": null,
      "border": null,
      "bottom": null,
      "display": null,
      "flex": null,
      "flex_flow": null,
      "grid_area": null,
      "grid_auto_columns": null,
      "grid_auto_flow": null,
      "grid_auto_rows": null,
      "grid_column": null,
      "grid_gap": null,
      "grid_row": null,
      "grid_template_areas": null,
      "grid_template_columns": null,
      "grid_template_rows": null,
      "height": null,
      "justify_content": null,
      "justify_items": null,
      "left": null,
      "margin": null,
      "max_height": null,
      "max_width": null,
      "min_height": null,
      "min_width": null,
      "object_fit": null,
      "object_position": null,
      "order": null,
      "overflow": null,
      "overflow_x": null,
      "overflow_y": null,
      "padding": null,
      "right": null,
      "top": null,
      "visibility": null,
      "width": null
     }
    },
    "e863af4558ae4265b42d140e355c2868": {
     "model_module": "@jupyter-widgets/controls",
     "model_name": "ProgressStyleModel",
     "state": {
      "_model_module": "@jupyter-widgets/controls",
      "_model_module_version": "1.5.0",
      "_model_name": "ProgressStyleModel",
      "_view_count": null,
      "_view_module": "@jupyter-widgets/base",
      "_view_module_version": "1.2.0",
      "_view_name": "StyleView",
      "bar_color": null,
      "description_width": "initial"
     }
    },
    "eda65897e83947c8a93a5a5fe72a2221": {
     "model_module": "@jupyter-widgets/base",
     "model_name": "LayoutModel",
     "state": {
      "_model_module": "@jupyter-widgets/base",
      "_model_module_version": "1.2.0",
      "_model_name": "LayoutModel",
      "_view_count": null,
      "_view_module": "@jupyter-widgets/base",
      "_view_module_version": "1.2.0",
      "_view_name": "LayoutView",
      "align_content": null,
      "align_items": null,
      "align_self": null,
      "border": null,
      "bottom": null,
      "display": null,
      "flex": null,
      "flex_flow": null,
      "grid_area": null,
      "grid_auto_columns": null,
      "grid_auto_flow": null,
      "grid_auto_rows": null,
      "grid_column": null,
      "grid_gap": null,
      "grid_row": null,
      "grid_template_areas": null,
      "grid_template_columns": null,
      "grid_template_rows": null,
      "height": null,
      "justify_content": null,
      "justify_items": null,
      "left": null,
      "margin": null,
      "max_height": null,
      "max_width": null,
      "min_height": null,
      "min_width": null,
      "object_fit": null,
      "object_position": null,
      "order": null,
      "overflow": null,
      "overflow_x": null,
      "overflow_y": null,
      "padding": null,
      "right": null,
      "top": null,
      "visibility": null,
      "width": null
     }
    },
    "f4fc029e6cb54e97a9861bb879f9a9d1": {
     "model_module": "@jupyter-widgets/base",
     "model_name": "LayoutModel",
     "state": {
      "_model_module": "@jupyter-widgets/base",
      "_model_module_version": "1.2.0",
      "_model_name": "LayoutModel",
      "_view_count": null,
      "_view_module": "@jupyter-widgets/base",
      "_view_module_version": "1.2.0",
      "_view_name": "LayoutView",
      "align_content": null,
      "align_items": null,
      "align_self": null,
      "border": null,
      "bottom": null,
      "display": null,
      "flex": null,
      "flex_flow": null,
      "grid_area": null,
      "grid_auto_columns": null,
      "grid_auto_flow": null,
      "grid_auto_rows": null,
      "grid_column": null,
      "grid_gap": null,
      "grid_row": null,
      "grid_template_areas": null,
      "grid_template_columns": null,
      "grid_template_rows": null,
      "height": null,
      "justify_content": null,
      "justify_items": null,
      "left": null,
      "margin": null,
      "max_height": null,
      "max_width": null,
      "min_height": null,
      "min_width": null,
      "object_fit": null,
      "object_position": null,
      "order": null,
      "overflow": null,
      "overflow_x": null,
      "overflow_y": null,
      "padding": null,
      "right": null,
      "top": null,
      "visibility": null,
      "width": null
     }
    },
    "f6da5edbabab4042be93b7b0a098416b": {
     "model_module": "@jupyter-widgets/base",
     "model_name": "LayoutModel",
     "state": {
      "_model_module": "@jupyter-widgets/base",
      "_model_module_version": "1.2.0",
      "_model_name": "LayoutModel",
      "_view_count": null,
      "_view_module": "@jupyter-widgets/base",
      "_view_module_version": "1.2.0",
      "_view_name": "LayoutView",
      "align_content": null,
      "align_items": null,
      "align_self": null,
      "border": null,
      "bottom": null,
      "display": null,
      "flex": null,
      "flex_flow": null,
      "grid_area": null,
      "grid_auto_columns": null,
      "grid_auto_flow": null,
      "grid_auto_rows": null,
      "grid_column": null,
      "grid_gap": null,
      "grid_row": null,
      "grid_template_areas": null,
      "grid_template_columns": null,
      "grid_template_rows": null,
      "height": null,
      "justify_content": null,
      "justify_items": null,
      "left": null,
      "margin": null,
      "max_height": null,
      "max_width": null,
      "min_height": null,
      "min_width": null,
      "object_fit": null,
      "object_position": null,
      "order": null,
      "overflow": null,
      "overflow_x": null,
      "overflow_y": null,
      "padding": null,
      "right": null,
      "top": null,
      "visibility": null,
      "width": null
     }
    },
    "f7991d7e097843d09296715745547b4c": {
     "model_module": "@jupyter-widgets/base",
     "model_name": "LayoutModel",
     "state": {
      "_model_module": "@jupyter-widgets/base",
      "_model_module_version": "1.2.0",
      "_model_name": "LayoutModel",
      "_view_count": null,
      "_view_module": "@jupyter-widgets/base",
      "_view_module_version": "1.2.0",
      "_view_name": "LayoutView",
      "align_content": null,
      "align_items": null,
      "align_self": null,
      "border": null,
      "bottom": null,
      "display": null,
      "flex": null,
      "flex_flow": null,
      "grid_area": null,
      "grid_auto_columns": null,
      "grid_auto_flow": null,
      "grid_auto_rows": null,
      "grid_column": null,
      "grid_gap": null,
      "grid_row": null,
      "grid_template_areas": null,
      "grid_template_columns": null,
      "grid_template_rows": null,
      "height": null,
      "justify_content": null,
      "justify_items": null,
      "left": null,
      "margin": null,
      "max_height": null,
      "max_width": null,
      "min_height": null,
      "min_width": null,
      "object_fit": null,
      "object_position": null,
      "order": null,
      "overflow": null,
      "overflow_x": null,
      "overflow_y": null,
      "padding": null,
      "right": null,
      "top": null,
      "visibility": null,
      "width": null
     }
    },
    "f9115788048a4166b48a5f2472ee18e5": {
     "model_module": "@jupyter-widgets/controls",
     "model_name": "HBoxModel",
     "state": {
      "_dom_classes": [],
      "_model_module": "@jupyter-widgets/controls",
      "_model_module_version": "1.5.0",
      "_model_name": "HBoxModel",
      "_view_count": null,
      "_view_module": "@jupyter-widgets/controls",
      "_view_module_version": "1.5.0",
      "_view_name": "HBoxView",
      "box_style": "",
      "children": [
       "IPY_MODEL_0fa7c570b47b436a99efb4c37c239006",
       "IPY_MODEL_487a9a598317447d85f93bb786bac5a6"
      ],
      "layout": "IPY_MODEL_f6da5edbabab4042be93b7b0a098416b"
     }
    },
    "f9ad9ee416e64602b60fe2b8e3ac3e3d": {
     "model_module": "@jupyter-widgets/controls",
     "model_name": "FloatProgressModel",
     "state": {
      "_dom_classes": [],
      "_model_module": "@jupyter-widgets/controls",
      "_model_module_version": "1.5.0",
      "_model_name": "FloatProgressModel",
      "_view_count": null,
      "_view_module": "@jupyter-widgets/controls",
      "_view_module_version": "1.5.0",
      "_view_name": "ProgressView",
      "bar_style": "danger",
      "description": "100%",
      "description_tooltip": null,
      "layout": "IPY_MODEL_54a3f8e6c14c4b39b1b2694fb3d859ee",
      "max": 75750,
      "min": 0,
      "orientation": "horizontal",
      "style": "IPY_MODEL_6963a4d5c8f44e59ae4f2e6c9e74fbe1",
      "value": 75659
     }
    },
    "fbb37046336f4489811eecb2b0466c59": {
     "model_module": "@jupyter-widgets/controls",
     "model_name": "ProgressStyleModel",
     "state": {
      "_model_module": "@jupyter-widgets/controls",
      "_model_module_version": "1.5.0",
      "_model_name": "ProgressStyleModel",
      "_view_count": null,
      "_view_module": "@jupyter-widgets/base",
      "_view_module_version": "1.2.0",
      "_view_name": "StyleView",
      "bar_color": null,
      "description_width": "initial"
     }
    },
    "fcec6924330245c4964e7c04609d0259": {
     "model_module": "@jupyter-widgets/controls",
     "model_name": "HTMLModel",
     "state": {
      "_dom_classes": [],
      "_model_module": "@jupyter-widgets/controls",
      "_model_module_version": "1.5.0",
      "_model_name": "HTMLModel",
      "_view_count": null,
      "_view_module": "@jupyter-widgets/controls",
      "_view_module_version": "1.5.0",
      "_view_name": "HTMLView",
      "description": "",
      "description_tooltip": null,
      "layout": "IPY_MODEL_becf8fa329f4417bb5b2e4276b4b05c7",
      "placeholder": "​",
      "style": "IPY_MODEL_9e8f0ec24fd94dcf86367f4e5ad66e17",
      "value": " 75750/0 [01:59&lt;00:00, 588.77 examples/s]"
     }
    }
   }
  }
 },
 "nbformat": 4,
 "nbformat_minor": 4
}
